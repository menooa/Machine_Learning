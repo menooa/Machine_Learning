{
 "cells": [
  {
   "cell_type": "code",
   "execution_count": 1,
   "metadata": {},
   "outputs": [
    {
     "name": "stdout",
     "output_type": "stream",
     "text": [
      "(60000, 28, 28)\n",
      "(60000, 28, 28, 1)\n"
     ]
    }
   ],
   "source": [
    "from tensorflow.keras.datasets import mnist\n",
    "\n",
    "(X_train, y_train), (X_test, y_test) = mnist.load_data()\n",
    "print(X_train.shape)\n",
    "\n",
    "# reshape to be (samples, width, height, cahnnels)\n",
    "# CNN needs this format\n",
    "X_train = X_train.reshape(X_train.shape[0], 28, 28, 1).astype('float32')\n",
    "X_test = X_test.reshape(X_test.shape[0], 28, 28, 1).astype('float32')\n",
    "print(X_train.shape)"
   ]
  },
  {
   "cell_type": "code",
   "execution_count": 2,
   "metadata": {},
   "outputs": [],
   "source": [
    "# normalize\n",
    "X_train = X_train / 255\n",
    "X_test = X_test / 255"
   ]
  },
  {
   "cell_type": "code",
   "execution_count": 3,
   "metadata": {},
   "outputs": [
    {
     "name": "stdout",
     "output_type": "stream",
     "text": [
      "10\n"
     ]
    }
   ],
   "source": [
    "# one-hot-encode the y\n",
    "from tensorflow.keras.utils import to_categorical\n",
    "\n",
    "y_train = to_categorical(y_train)\n",
    "y_test = to_categorical(y_test)\n",
    "\n",
    "num_classes = y_test.shape[1]\n",
    "print(num_classes)"
   ]
  },
  {
   "cell_type": "code",
   "execution_count": 4,
   "metadata": {},
   "outputs": [
    {
     "name": "stderr",
     "output_type": "stream",
     "text": [
      "c:\\Users\\Menoo\\AppData\\Local\\Programs\\Python\\Python312\\Lib\\site-packages\\keras\\src\\layers\\convolutional\\base_conv.py:107: UserWarning: Do not pass an `input_shape`/`input_dim` argument to a layer. When using Sequential models, prefer using an `Input(shape)` object as the first layer in the model instead.\n",
      "  super().__init__(activity_regularizer=activity_regularizer, **kwargs)\n"
     ]
    }
   ],
   "source": [
    "# create the CNN model\n",
    "from tensorflow.keras.models import Sequential\n",
    "from tensorflow.keras.layers import Dense, Flatten, Conv2D, MaxPooling2D\n",
    "\n",
    "model = Sequential()\n",
    "model.add(Conv2D(16, (5, 5), strides=(1, 1), activation='relu', input_shape=(28, 28, 1)))  # convolutional layer\n",
    "# 16: number of filters\n",
    "# (5, 5): size of the convolution filter/kernel\n",
    "# (1, 1): how far the kernel moves (slides) in each step (vertically and horizontally)\n",
    "model.add(MaxPooling2D(pool_size=(2, 2), strides=(2, 2)))\n",
    "# pool_size: size of the pooling window\n",
    "model.add(Flatten())\n",
    "model.add(Dense(100, activation='relu'))\n",
    "model.add(Dense(num_classes, activation='softmax'))\n",
    "\n",
    "model.compile(optimizer='adam', loss='categorical_crossentropy', metrics=['accuracy'])"
   ]
  },
  {
   "cell_type": "code",
   "execution_count": 5,
   "metadata": {},
   "outputs": [
    {
     "name": "stdout",
     "output_type": "stream",
     "text": [
      "Epoch 1/10\n",
      "300/300 - 4s - 13ms/step - accuracy: 0.9146 - loss: 0.2990 - val_accuracy: 0.9682 - val_loss: 0.1088\n",
      "Epoch 2/10\n",
      "300/300 - 3s - 8ms/step - accuracy: 0.9734 - loss: 0.0920 - val_accuracy: 0.9778 - val_loss: 0.0709\n",
      "Epoch 3/10\n",
      "300/300 - 3s - 8ms/step - accuracy: 0.9812 - loss: 0.0628 - val_accuracy: 0.9825 - val_loss: 0.0521\n",
      "Epoch 4/10\n",
      "300/300 - 3s - 9ms/step - accuracy: 0.9854 - loss: 0.0484 - val_accuracy: 0.9856 - val_loss: 0.0450\n",
      "Epoch 5/10\n",
      "300/300 - 2s - 8ms/step - accuracy: 0.9877 - loss: 0.0402 - val_accuracy: 0.9834 - val_loss: 0.0508\n",
      "Epoch 6/10\n",
      "300/300 - 2s - 8ms/step - accuracy: 0.9900 - loss: 0.0327 - val_accuracy: 0.9856 - val_loss: 0.0458\n",
      "Epoch 7/10\n",
      "300/300 - 3s - 10ms/step - accuracy: 0.9915 - loss: 0.0282 - val_accuracy: 0.9855 - val_loss: 0.0426\n",
      "Epoch 8/10\n",
      "300/300 - 3s - 11ms/step - accuracy: 0.9933 - loss: 0.0226 - val_accuracy: 0.9881 - val_loss: 0.0374\n",
      "Epoch 9/10\n",
      "300/300 - 3s - 10ms/step - accuracy: 0.9940 - loss: 0.0201 - val_accuracy: 0.9860 - val_loss: 0.0401\n",
      "Epoch 10/10\n",
      "300/300 - 3s - 9ms/step - accuracy: 0.9948 - loss: 0.0171 - val_accuracy: 0.9873 - val_loss: 0.0390\n",
      "313/313 - 1s - 2ms/step - accuracy: 0.9873 - loss: 0.0390\n",
      "Accuracy: 0.9872999787330627\n",
      "Error: 1.2700021266937256\n"
     ]
    }
   ],
   "source": [
    "# train it\n",
    "model.fit(X_train, y_train, validation_data=(X_test, y_test), epochs=10, batch_size=200, verbose=2)\n",
    "# batch_size=200: divides your training data into batches of 200 samples, and the model updates weights after processing each chunk.\n",
    "# 1 epoch means the training for the whole train dataset that is devided in 200 samples batches\n",
    "scores = model.evaluate(X_test, y_test, verbose=2)\n",
    "print(f'Accuracy: {scores[1]}\\nError: {(1 - scores[1])*100}')"
   ]
  },
  {
   "cell_type": "code",
   "execution_count": 6,
   "metadata": {},
   "outputs": [],
   "source": [
    "# CNN model with two sets of convolutional and pooling layers\n",
    "model = Sequential()\n",
    "model.add(Conv2D(16, (5, 5), activation='relu', input_shape=(28, 28, 1)))\n",
    "model.add(MaxPooling2D(pool_size=(2, 2), strides=(2, 2)))\n",
    "\n",
    "model.add(Conv2D(8, (2, 2), activation='relu'))\n",
    "model.add(MaxPooling2D(pool_size=(2, 2), strides=(2, 2)))\n",
    "\n",
    "model.add(Flatten())\n",
    "model.add(Dense(100, activation='relu'))\n",
    "model.add(Dense(num_classes, activation='softmax'))\n",
    "\n",
    "# Compile model\n",
    "model.compile(optimizer='adam', loss='categorical_crossentropy',  metrics=['accuracy'])"
   ]
  },
  {
   "cell_type": "code",
   "execution_count": 7,
   "metadata": {},
   "outputs": [
    {
     "name": "stdout",
     "output_type": "stream",
     "text": [
      "Epoch 1/10\n",
      "300/300 - 5s - 15ms/step - accuracy: 0.8701 - loss: 0.4512 - val_accuracy: 0.9613 - val_loss: 0.1296\n",
      "Epoch 2/10\n",
      "300/300 - 2s - 8ms/step - accuracy: 0.9652 - loss: 0.1156 - val_accuracy: 0.9772 - val_loss: 0.0761\n",
      "Epoch 3/10\n",
      "300/300 - 2s - 8ms/step - accuracy: 0.9740 - loss: 0.0850 - val_accuracy: 0.9783 - val_loss: 0.0707\n",
      "Epoch 4/10\n",
      "300/300 - 2s - 8ms/step - accuracy: 0.9793 - loss: 0.0697 - val_accuracy: 0.9820 - val_loss: 0.0577\n",
      "Epoch 5/10\n",
      "300/300 - 2s - 8ms/step - accuracy: 0.9811 - loss: 0.0608 - val_accuracy: 0.9854 - val_loss: 0.0460\n",
      "Epoch 6/10\n",
      "300/300 - 2s - 8ms/step - accuracy: 0.9844 - loss: 0.0523 - val_accuracy: 0.9863 - val_loss: 0.0424\n",
      "Epoch 7/10\n",
      "300/300 - 2s - 8ms/step - accuracy: 0.9856 - loss: 0.0477 - val_accuracy: 0.9862 - val_loss: 0.0430\n",
      "Epoch 8/10\n",
      "300/300 - 2s - 8ms/step - accuracy: 0.9873 - loss: 0.0424 - val_accuracy: 0.9884 - val_loss: 0.0381\n",
      "Epoch 9/10\n",
      "300/300 - 2s - 8ms/step - accuracy: 0.9889 - loss: 0.0383 - val_accuracy: 0.9889 - val_loss: 0.0358\n",
      "Epoch 10/10\n",
      "300/300 - 2s - 8ms/step - accuracy: 0.9889 - loss: 0.0363 - val_accuracy: 0.9895 - val_loss: 0.0338\n",
      "Accuracy: 0.9894999861717224\n",
      "Error: 1.0500013828277588\n"
     ]
    }
   ],
   "source": [
    "model.fit(X_train, y_train, validation_data=(X_test, y_test), epochs=10, batch_size=200, verbose=2)\n",
    "\n",
    "scores = model.evaluate(X_test, y_test, verbose=0)\n",
    "print(f'Accuracy: {scores[1]}\\nError: {(1 - scores[1]) * 100}')"
   ]
  }
 ],
 "metadata": {
  "kernelspec": {
   "display_name": "Python 3",
   "language": "python",
   "name": "python3"
  },
  "language_info": {
   "codemirror_mode": {
    "name": "ipython",
    "version": 3
   },
   "file_extension": ".py",
   "mimetype": "text/x-python",
   "name": "python",
   "nbconvert_exporter": "python",
   "pygments_lexer": "ipython3",
   "version": "3.12.6"
  }
 },
 "nbformat": 4,
 "nbformat_minor": 2
}
