{
 "cells": [
  {
   "cell_type": "code",
   "execution_count": 5,
   "metadata": {},
   "outputs": [],
   "source": [
    "# We usually don't use PyTorch for simple linear regression (standalone linear classifier; not in neural networks). Scikit-learn is typically preferred due to its simplicity. PyTorch is mainly used for neural network for complex datasets"
   ]
  },
  {
   "cell_type": "code",
   "execution_count": 6,
   "metadata": {},
   "outputs": [],
   "source": [
    "# Linear Regression with multiple targets (outputs)"
   ]
  },
  {
   "cell_type": "code",
   "execution_count": 7,
   "metadata": {},
   "outputs": [],
   "source": [
    "import pandas as pd\n",
    "import numpy as np\n",
    "import torch\n",
    "from sklearn.model_selection import train_test_split\n",
    "from sklearn.preprocessing import StandardScaler\n",
    "\n",
    "df = pd.read_csv('FuelConsumption.csv')\n",
    "df.head()\n",
    "\n",
    "x_num = df[['ENGINESIZE', 'CYLINDERS']]\n",
    "x_cat = df[['MODELYEAR', 'VEHICLECLASS', 'TRANSMISSION', 'FUELTYPE']]\n",
    "x_cat = pd.get_dummies(x_cat, drop_first=True)\n",
    "X = pd.concat([x_num, x_cat], axis=1)\n",
    "X = X.values\n",
    "X = StandardScaler().fit_transform(X)\n",
    "\n",
    "y = df[['FUELCONSUMPTION_COMB_MPG', 'CO2EMISSIONS']].values\n",
    "\n",
    "X_train, X_temp, y_train, y_temp = train_test_split(X, y, test_size=0.3, random_state=42)\n",
    "X_val, X_test, y_val, y_test = train_test_split(X_temp, y_temp, test_size=0.5, random_state=42)\n",
    "\n",
    "X_train = torch.FloatTensor(X_train)\n",
    "X_val = torch.FloatTensor(X_val)\n",
    "X_test = torch.FloatTensor(X_test)\n",
    "y_train = torch.FloatTensor(y_train)\n",
    "y_val = torch.FloatTensor(y_val)\n",
    "y_test = torch.FloatTensor(y_test)"
   ]
  },
  {
   "cell_type": "code",
   "execution_count": 8,
   "metadata": {},
   "outputs": [
    {
     "name": "stdout",
     "output_type": "stream",
     "text": [
      "Epoch [10/100], Average Train Loss: 34290.4996, Val Loss: 33828.0547\n",
      "Epoch [20/100], Average Train Loss: 33189.0681, Val Loss: 33043.9766\n",
      "Epoch [30/100], Average Train Loss: 32806.5077, Val Loss: 32319.5566\n",
      "Epoch [40/100], Average Train Loss: 31869.1886, Val Loss: 31611.3535\n",
      "Epoch [50/100], Average Train Loss: 31079.8079, Val Loss: 30954.1816\n",
      "Epoch [60/100], Average Train Loss: 30281.9147, Val Loss: 30328.3555\n",
      "Epoch [70/100], Average Train Loss: 29542.9737, Val Loss: 29725.9414\n",
      "Epoch [80/100], Average Train Loss: 28908.5719, Val Loss: 29148.4258\n",
      "Epoch [90/100], Average Train Loss: 28428.7201, Val Loss: 28591.6934\n",
      "Epoch [100/100], Average Train Loss: 27814.9784, Val Loss: 28049.7910\n",
      "\n",
      "Test Loss: 28103.8301\n"
     ]
    }
   ],
   "source": [
    "from torch.utils.data import TensorDataset, DataLoader\n",
    "import torch.nn as nn\n",
    "\n",
    "    \n",
    "train_dataset = TensorDataset(X_train, y_train)\n",
    "val_dataset = TensorDataset(X_val, y_val)\n",
    "test_dataset = TensorDataset(X_test, y_test)\n",
    "\n",
    "train_loader = DataLoader(train_dataset, batch_size=32, shuffle=True)\n",
    "val_loader = DataLoader(val_dataset, batch_size=32)\n",
    "test_loader = DataLoader(test_dataset, batch_size=32)\n",
    "\n",
    "\n",
    "class MultLinRegModel(nn.Module):\n",
    "    def __init__(self, input_size):\n",
    "        super().__init__()\n",
    "        self.linear = nn.Linear(input_size, 2)  # 2: output size\n",
    "\n",
    "    def forward(self, x):\n",
    "        return self.linear(x)  # takes your input data x and passes it through the linear model (which applies the equation y = wx + b, where w and b are the learned weights and bias) to get the predicted output.\n",
    "    \n",
    "\n",
    "input_size = X_train.shape[1]\n",
    "model = MultLinRegModel(input_size)\n",
    "criterion = nn.MSELoss()\n",
    "optimizer = torch.optim.Adam(model.parameters(), lr=0.01)\n",
    "\n",
    "\n",
    "num_epochs = 100\n",
    "for epoch in range(num_epochs):\n",
    "    model.train()\n",
    "    total_train_loss = 0\n",
    "    for batch_X, batch_y in train_loader:\n",
    "        optimizer.zero_grad()\n",
    "        train_pred = model(batch_X)\n",
    "        loss = criterion(train_pred, batch_y)\n",
    "        loss.backward()\n",
    "        optimizer.step()\n",
    "\n",
    "        # Accumulate batch losses\n",
    "        total_train_loss += loss.item()\n",
    "    \n",
    "    # Calculate average training loss for the epoch\n",
    "    avg_train_loss = total_train_loss / len(train_loader)       \n",
    "\n",
    "    model.eval()\n",
    "    with torch.no_grad():\n",
    "        val_pred = model(X_val)\n",
    "        val_loss = criterion(val_pred, y_val)\n",
    "\n",
    "    if (epoch + 1) % 10 == 0:  # print losses for each 10 epochs\n",
    "         print(f'Epoch [{epoch+1}/{num_epochs}], Average Train Loss: {avg_train_loss:.4f}, Val Loss: {val_loss.item():.4f}')\n",
    "\n",
    "\n",
    "model.eval()\n",
    "with torch.no_grad():\n",
    "    test_pred = model(X_test)\n",
    "    test_loss = criterion(test_pred, y_test)\n",
    "    print(f'\\nTest Loss: {test_loss.item():.4f}')"
   ]
  }
 ],
 "metadata": {
  "kernelspec": {
   "display_name": "Python 3",
   "language": "python",
   "name": "python3"
  },
  "language_info": {
   "codemirror_mode": {
    "name": "ipython",
    "version": 3
   },
   "file_extension": ".py",
   "mimetype": "text/x-python",
   "name": "python",
   "nbconvert_exporter": "python",
   "pygments_lexer": "ipython3",
   "version": "3.12.6"
  }
 },
 "nbformat": 4,
 "nbformat_minor": 2
}
