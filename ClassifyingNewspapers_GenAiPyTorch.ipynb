{
 "cells": [
  {
   "cell_type": "code",
   "execution_count": null,
   "metadata": {},
   "outputs": [],
   "source": [
    "# AG_NEWS was created around 2005-2006, and there are now more comprehensive and diverse datasets available."
   ]
  },
  {
   "cell_type": "code",
   "execution_count": null,
   "metadata": {},
   "outputs": [],
   "source": [
    "from torchtext.datasets import AG_NEWS\n",
    "import torch\n",
    "from torchdata.datapipes.iter import IterableWrapper\n",
    "\n",
    "# get train dataset as an iterator\n",
    "train_iter = iter(AG_NEWS(split=\"train\"))\n",
    "# AG_NEWS dataset: a common text classification dataset used in torchtext\n",
    "# it loads the AG News dataset, which is a collection of news articles categorized into 4 topics: 1. World, 2. Sports, 3. Business, 4. Sci/Tech\n",
    "# split=\"train\": to load the training set.\n",
    "# AG_NEWS(split=\"train\"): gives me AG News train dataset\n",
    "# iter(...): converts this dataset into an iterator. It's designed to return one sample at a time each time you call next() on it.\n",
    "\n",
    "# use these versions\n",
    "# python 3.10.7\n",
    "# py -3.10 -m pip install torch==2.0.1\n",
    "# py -3.10 -m pip install torchtext==0.15.2\n",
    "# py -3.10 -m pip install torchdata==0.6.0\n",
    "# py -3.10 -m pip install portalocker>=2.0.0"
   ]
  },
  {
   "cell_type": "code",
   "execution_count": 18,
   "metadata": {},
   "outputs": [
    {
     "name": "stdout",
     "output_type": "stream",
     "text": [
      "3 \n",
      " Wall St. Bears Claw Back Into the Black (Reuters) Reuters - Short-sellers, Wall Street's dwindling\\band of ultra-cynics, are seeing green again.\n",
      "Class: Business\n"
     ]
    }
   ],
   "source": [
    "y, text = next(train_iter)\n",
    "# y (int): The category label (1 to 4, representing different news topics).\n",
    "# next(iterator): is used to retrieve the next item from an iterator.\n",
    "# text (str): The news article text.\n",
    "print(f\"{y} \\n {text}\")\n",
    "\n",
    "# find the label\n",
    "ag_news_label = {1: \"World\", 2: \"Sports\", 3: \"Business\", 4: \"Sci/Tec\"}\n",
    "print(f'Class: {ag_news_label[y]}')"
   ]
  },
  {
   "cell_type": "code",
   "execution_count": null,
   "metadata": {},
   "outputs": [],
   "source": [
    "# check the rest in course's 8th folder (Classifying_Document)"
   ]
  }
 ],
 "metadata": {
  "kernelspec": {
   "display_name": "Python 3",
   "language": "python",
   "name": "python3"
  },
  "language_info": {
   "codemirror_mode": {
    "name": "ipython",
    "version": 3
   },
   "file_extension": ".py",
   "mimetype": "text/x-python",
   "name": "python",
   "nbconvert_exporter": "python",
   "pygments_lexer": "ipython3",
   "version": "3.10.7"
  }
 },
 "nbformat": 4,
 "nbformat_minor": 2
}
