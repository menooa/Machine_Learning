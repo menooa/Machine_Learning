{
 "cells": [
  {
   "cell_type": "code",
   "execution_count": 31,
   "metadata": {},
   "outputs": [],
   "source": [
    "# text to text\n",
    "# tokenize the text => index the tokens => train/teste the model\n",
    "# In many NLP tasks, indexing (or creating a vocabulary mapping) after tokenization is important, but when using modern transformer models like T5, BERT, or GPT, you don't need to create your own index because:"
   ]
  },
  {
   "cell_type": "code",
   "execution_count": 32,
   "metadata": {},
   "outputs": [],
   "source": [
    "import numpy as np\n",
    "import pandas as pd\n",
    "\n",
    "# 1. Generate synthetic clinical notes and summaries\n",
    "def generate_data(sample_size=100):\n",
    "    clinical_notes = []  # like X\n",
    "    summaries = []  # like y\n",
    "    \n",
    "    conditions = ['diabetes', 'hypertension', 'asthma']  # Fixed typo in variable name\n",
    "    symptoms = ['fatigue', 'headache', 'dizziness', 'chest pain']\n",
    "    medications = ['metformin', 'lisinopril', 'albuterol']\n",
    "    \n",
    "    for i in range(sample_size):\n",
    "        condition = np.random.choice(conditions)\n",
    "        symptom1, symptom2 = np.random.choice(symptoms, 2, replace=False)\n",
    "        medication = np.random.choice(medications)\n",
    "        \n",
    "        note = f\"\"\"Patient presents with {condition}. Chief complaints include {symptom1} and {symptom2}.\n",
    "        Current medications include {medication}. Patient reports symptoms began 2 weeks ago.\n",
    "        Vital signs are stable. Blood pressure 120/80, heart rate 72, temperature 98.6F.\n",
    "        Patient advised to continue current medications and follow up in 2 weeks.\"\"\"\n",
    "        \n",
    "        summary = f\"Patient with {condition} presenting with {symptom1} and {symptom2}. Continuing {medication}.\"\n",
    "        \n",
    "        clinical_notes.append(note)\n",
    "        summaries.append(summary)\n",
    "    \n",
    "    return pd.DataFrame({\n",
    "        'clinical_note': clinical_notes,\n",
    "        'summary': summaries\n",
    "    })"
   ]
  },
  {
   "cell_type": "code",
   "execution_count": 33,
   "metadata": {},
   "outputs": [
    {
     "data": {
      "application/vnd.jupyter.widget-view+json": {
       "model_id": "209e701c455e413699ec326d30fe4355",
       "version_major": 2,
       "version_minor": 0
      },
      "text/plain": [
       "Map:   0%|          | 0/80 [00:00<?, ? examples/s]"
      ]
     },
     "metadata": {},
     "output_type": "display_data"
    },
    {
     "data": {
      "application/vnd.jupyter.widget-view+json": {
       "model_id": "900d511495804082a6649efe388957d4",
       "version_major": 2,
       "version_minor": 0
      },
      "text/plain": [
       "Map:   0%|          | 0/20 [00:00<?, ? examples/s]"
      ]
     },
     "metadata": {},
     "output_type": "display_data"
    },
    {
     "data": {
      "text/html": [
       "\n",
       "    <div>\n",
       "      \n",
       "      <progress value='60' max='60' style='width:300px; height:20px; vertical-align: middle;'></progress>\n",
       "      [60/60 05:30, Epoch 3/3]\n",
       "    </div>\n",
       "    <table border=\"1\" class=\"dataframe\">\n",
       "  <thead>\n",
       " <tr style=\"text-align: left;\">\n",
       "      <th>Step</th>\n",
       "      <th>Training Loss</th>\n",
       "    </tr>\n",
       "  </thead>\n",
       "  <tbody>\n",
       "  </tbody>\n",
       "</table><p>"
      ],
      "text/plain": [
       "<IPython.core.display.HTML object>"
      ]
     },
     "metadata": {},
     "output_type": "display_data"
    },
    {
     "name": "stdout",
     "output_type": "stream",
     "text": [
      "Generated Summary: fatigue and dizziness. Chief complaints include fatigue and dizziness. Patient presents with diabetes. Chief complaints include fatigue and dizziness. Current medications include metformin. Patient reports symptoms started 2 weeks ago. Vital signs are stable. Blood pressure 120/80, heart rate 72, temperature 98.6F. Patient advised to continue current medications and follow up in 2 weeks.\n"
     ]
    }
   ],
   "source": [
    "# actually this doesn't summarize it, it gives me the whole text (fix it later)\n",
    "\n",
    "import torch\n",
    "from sklearn.model_selection import train_test_split\n",
    "from transformers import T5Tokenizer, T5ForConditionalGeneration, TrainingArguments, Trainer\n",
    "from datasets import Dataset\n",
    "\n",
    "# 2. Prepare the data\n",
    "df = generate_data(100)\n",
    "train_df, test_df = train_test_split(df, test_size=0.2, random_state=42)  # note that we don't split them to X and y here yet\n",
    "\n",
    "# 3. Initialize tokenizer and model\n",
    "model_name = \"t5-small\"   # Using a smaller model for demonstration\n",
    "tokenizer = T5Tokenizer.from_pretrained(model_name)  #  loads a pre-trained tokenizer for the T5 model\n",
    "model = T5ForConditionalGeneration.from_pretrained(model_name)  #  loads a pre-trained T5 (Text-to-Text Transfer Transformer) model for conditional generation, such as text summarization, translation, and question answering.\n",
    "# we usually use the same etokanizer and model for better compatibility\n",
    "\n",
    "# 4. Prepare datasets\n",
    "# data tokenizer function\n",
    "def preprocess_data(examples):\n",
    "    inputs = tokenizer(examples['clinical_note'], max_length=512, truncation=True, padding='max_length')\n",
    "    labels = tokenizer(examples['summary'], max_length=128, truncation=True, padding='max_length')\n",
    "    \n",
    "    return {\n",
    "        'input_ids': inputs['input_ids'],  # input_ids are vocabulary indices (token IDs)\n",
    "        # We return IDs instead of exact inputs because neural networks can't process text directly - they need numbers to perform calculations. \n",
    "        'attention_mask': inputs['attention_mask'],  # gives you a binary array (1s and 0s) that tells the model which tokens are real content (1) and which are padding (0).\n",
    "        'labels': labels['input_ids']\n",
    "    }\n",
    "\n",
    "# convert pandas DataFrame into Hugging Face Dataset format (a special ML-ready format (HuggingFace Dataset) that's optimized for training deep learning models).\n",
    "train_dataset = Dataset.from_pandas(train_df)\n",
    "test_dataset = Dataset.from_pandas(test_df)\n",
    "\n",
    "# Apply preprocessing\n",
    "train_dataset = train_dataset.map(preprocess_data, remove_columns=train_dataset.column_names)\n",
    "test_dataset = test_dataset.map(preprocess_data, remove_columns=test_dataset.column_names)\n",
    "# .map(preprocess_data): \n",
    "# Takes each row of the dataset\n",
    "# Runs it through the preprocess_data function\n",
    "# This function converts text to token IDs and creates attention masks\n",
    "\n",
    "# remove_columns=train_dataset.column_names:\n",
    "# Removes the original text columns after preprocessing\n",
    "# We don't need the original text anymore, just the IDs\n",
    "# Saves memory by keeping only the processed data\n",
    "\n",
    "# 5. Set up training arguments\n",
    "training_args = TrainingArguments(\n",
    "    output_dir=\"./clinical_summarizer\",  # specifies the directory path where the model will save\n",
    "    num_train_epochs=3,\n",
    "    per_device_train_batch_size=4,\n",
    "    per_device_eval_batch_size=4,\n",
    "    warmup_steps=500,\n",
    "    weight_decay=0.01,\n",
    "    logging_dir=\"./logs\",\n",
    ")\n",
    "\n",
    "# 6. Create trainer and train\n",
    "trainer = Trainer(\n",
    "    model=model,\n",
    "    args=training_args,\n",
    "    train_dataset=train_dataset,\n",
    "    eval_dataset=test_dataset\n",
    ")\n",
    "\n",
    "# 7. Train the model\n",
    "trainer.train()\n",
    "\n",
    "# 8. create function to use the model\n",
    "def generate_summary(text):\n",
    "    inputs = tokenizer(text, max_length=512, truncation=True,  padding='max_length', return_tensors='pt') \n",
    "    summary_ids = model.generate(inputs['input_ids'], max_length=128, min_length=30, num_beams=4)\n",
    "    \n",
    "    summary = tokenizer.decode(summary_ids[0], skip_special_tokens=True)\n",
    "    return summary\n",
    "\n",
    "# 9. Example usage\n",
    "test_note = \"\"\"Patient presents with diabetes. Chief complaints include fatigue and dizziness.\n",
    "Current medications include metformin. Patient reports symptoms began 2 weeks ago.\n",
    "Vital signs are stable. Blood pressure 120/80, heart rate 72, temperature 98.6F.\n",
    "Patient advised to continue current medications and follow up in 2 weeks.\"\"\"\n",
    "\n",
    "generated_summary = generate_summary(test_note)\n",
    "print(\"Generated Summary:\", generated_summary)"
   ]
  }
 ],
 "metadata": {
  "kernelspec": {
   "display_name": "Python 3",
   "language": "python",
   "name": "python3"
  },
  "language_info": {
   "codemirror_mode": {
    "name": "ipython",
    "version": 3
   },
   "file_extension": ".py",
   "mimetype": "text/x-python",
   "name": "python",
   "nbconvert_exporter": "python",
   "pygments_lexer": "ipython3",
   "version": "3.12.6"
  }
 },
 "nbformat": 4,
 "nbformat_minor": 2
}
