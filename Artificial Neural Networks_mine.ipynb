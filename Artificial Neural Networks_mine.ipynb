{
 "cells": [
  {
   "cell_type": "code",
   "execution_count": 1,
   "metadata": {},
   "outputs": [],
   "source": [
    "# all deep learning libraries have the entire training and prediction processes implemented, and so in practice you wouldn't really need to build a neural network from scratch\n",
    "# this is just to understand better"
   ]
  },
  {
   "cell_type": "code",
   "execution_count": 2,
   "metadata": {},
   "outputs": [],
   "source": [
    "# at the very top of a neural network we got some xs (x1, x2,.., xn) which are the predictor variables (also called features)\n",
    "# then we have some neurons in each layer\n",
    "# each neuron's function consists of z equation + sigmoid equation (or another activation equation) (check image 4), to convert the input to output.\n",
    "# the end of a neuron (output of a neuron) is often referred to as a node\n",
    "# After calculating z, the sigmoid function (or another activation function) is applied to compute the neuron's output or activation value (a).\n",
    "# The activation introduces non-linearity, enabling the neural network to learn complex patterns."
   ]
  },
  {
   "cell_type": "code",
   "execution_count": 3,
   "metadata": {},
   "outputs": [
    {
     "name": "stdout",
     "output_type": "stream",
     "text": [
      "[0.03 0.81 0.31 0.39 0.6  0.23]\n",
      "[0.67 0.74 0.21]\n"
     ]
    }
   ],
   "source": [
    "# first we define random weights and bias between 0-1 to make the equation (z = weight1*x1 + weight2*x2 + bias)\n",
    "# x1 and x2 (or more generally x1, x2,.., xn) are the inputs (features) (starting points) to the neural network.\n",
    "# By creating an equation you are defining how the neural network starts moving through the network\n",
    "# when starting to train a neural network, the exact values of the weights initially don’t matter we just want to start the process, that's why we choose them randomly\n",
    "import numpy as np\n",
    "\n",
    "# check the images 1, 2, 3 to see how we choose number of the weights and biases\n",
    "# each neuron has its own equation\n",
    "weights = np.random.uniform(size=6)\n",
    "weights = np.around(weights, decimals=2)\n",
    "\n",
    "\n",
    "biases = np.random.uniform(size=3)\n",
    "biases = np.around(biases, decimals=2)\n",
    "\n",
    "print(weights)\n",
    "print(biases)"
   ]
  },
  {
   "cell_type": "code",
   "execution_count": 4,
   "metadata": {},
   "outputs": [
    {
     "data": {
      "text/plain": [
       "0.7035"
      ]
     },
     "execution_count": 4,
     "metadata": {},
     "output_type": "execute_result"
    }
   ],
   "source": [
    "# calculation of one z equation\n",
    "x_1 = 0.5\n",
    "x_2 = 0.85\n",
    "z_11 = (weights[0] * x_1) + (weights[1] * x_2)\n",
    "z_11"
   ]
  },
  {
   "cell_type": "code",
   "execution_count": 9,
   "metadata": {},
   "outputs": [
    {
     "data": {
      "text/plain": [
       "0.6689633099071214"
      ]
     },
     "execution_count": 9,
     "metadata": {},
     "output_type": "execute_result"
    }
   ],
   "source": [
    "# then sigmoid equation\n",
    "a_11 = 1.0 / (1.0 + np.exp(-z_11))\n",
    "a_11"
   ]
  },
  {
   "cell_type": "code",
   "execution_count": 6,
   "metadata": {},
   "outputs": [],
   "source": [
    "# Initialize a Network\n",
    "n = 2 # number of inputs\n",
    "num_hidden_layers = 2 # number of hidden layers\n",
    "m = [2, 2] # number of nodes in each hidden layer\n",
    "num_nodes_output = 1 # number of nodes in the output layer"
   ]
  },
  {
   "cell_type": "code",
   "execution_count": 7,
   "metadata": {},
   "outputs": [],
   "source": [
    "# since this is not necessary, check it later for the main file\n",
    "import numpy as np\n",
    "\n",
    "num_nodes_previous = n  # number of nodes in the previous layer\n",
    "\n",
    "network = {}  # initialize network with an empty dictionary\n",
    "\n"
   ]
  }
 ],
 "metadata": {
  "kernelspec": {
   "display_name": "Python 3",
   "language": "python",
   "name": "python3"
  },
  "language_info": {
   "codemirror_mode": {
    "name": "ipython",
    "version": 3
   },
   "file_extension": ".py",
   "mimetype": "text/x-python",
   "name": "python",
   "nbconvert_exporter": "python",
   "pygments_lexer": "ipython3",
   "version": "3.12.6"
  }
 },
 "nbformat": 4,
 "nbformat_minor": 2
}
