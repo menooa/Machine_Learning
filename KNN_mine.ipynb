{
 "cells": [
  {
   "cell_type": "markdown",
   "metadata": {},
   "source": [
    "<details>\n",
    "<summary>Notes</summary>\n",
    "There are 2 types of KNN, KNeighborsClassifier & KNeighborsRegressor (we don't have in this program?).<br>\n",
    "In both, X must be continuous or at least numerical.<br>\n",
    "y must be categorical in Classifier model & continuous in Regression model\n",
    "\n",
    "KNN has limitations that affect its use in certain scenarios:\n",
    "- Doesn't scale well with large datasets (needs to compute distances to all points)\n",
    "- Requires significant memory (must store all training data)\n",
    "- Sensitive to irrelevant features\n",
    "- Can be computationally expensive during prediction\n",
    "\n",
    "For these reasons, while KNN is used in real-world applications, it's often:\n",
    "- Combined with other techniques\n",
    "- Used on smaller, preprocessed datasets\n",
    "- Implemented with optimizations like spatial indexing\n",
    "- Used when interpretability is important\n",
    "- Applied in scenarios where the training data size is manageable\n",
    "\n",
    "Here are some real-world applications:\n",
    "\n",
    "1. Recommendation Systems\n",
    "   - Netflix movie recommendations based on similar users' preferences\n",
    "   - Product recommendations in e-commerce based on similar customer behaviors\n",
    "   - Music recommendations based on listening patterns\n",
    "\n",
    "2. Financial Services\n",
    "   - Credit scoring by comparing loan applicants to similar past cases\n",
    "   - Fraud detection by identifying unusual transactions compared to normal patterns\n",
    "\n",
    "3. Healthcare\n",
    "   - Medical diagnosis by comparing patient symptoms to similar past cases\n",
    "   - Pattern recognition in medical imaging\n",
    "   - Gene expression classification\n",
    "</details>"
   ]
  },
  {
   "cell_type": "code",
   "execution_count": 14,
   "metadata": {},
   "outputs": [],
   "source": [
    "import pandas as pd"
   ]
  },
  {
   "cell_type": "code",
   "execution_count": 15,
   "metadata": {},
   "outputs": [],
   "source": [
    "from urllib.request import urlretrieve\n",
    "\n",
    "url = 'https://cf-courses-data.s3.us.cloud-object-storage.appdomain.cloud/IBMDeveloperSkillsNetwork-ML0101EN-SkillsNetwork/labs/Module%203/data/teleCust1000t.csv'\n",
    "output_file = 'teleCust1000t.csv'\n",
    "\n",
    "import os\n",
    "if not os.path.exists(output_file):  # if the file doesn't exist in this directory\n",
    "    urlretrieve(url, output_file)\n",
    "else:\n",
    "    pass"
   ]
  },
  {
   "cell_type": "code",
   "execution_count": 16,
   "metadata": {},
   "outputs": [
    {
     "data": {
      "text/html": [
       "<div>\n",
       "<style scoped>\n",
       "    .dataframe tbody tr th:only-of-type {\n",
       "        vertical-align: middle;\n",
       "    }\n",
       "\n",
       "    .dataframe tbody tr th {\n",
       "        vertical-align: top;\n",
       "    }\n",
       "\n",
       "    .dataframe thead th {\n",
       "        text-align: right;\n",
       "    }\n",
       "</style>\n",
       "<table border=\"1\" class=\"dataframe\">\n",
       "  <thead>\n",
       "    <tr style=\"text-align: right;\">\n",
       "      <th></th>\n",
       "      <th>region</th>\n",
       "      <th>tenure</th>\n",
       "      <th>age</th>\n",
       "      <th>marital</th>\n",
       "      <th>address</th>\n",
       "      <th>income</th>\n",
       "      <th>ed</th>\n",
       "      <th>employ</th>\n",
       "      <th>retire</th>\n",
       "      <th>gender</th>\n",
       "      <th>reside</th>\n",
       "      <th>custcat</th>\n",
       "    </tr>\n",
       "  </thead>\n",
       "  <tbody>\n",
       "    <tr>\n",
       "      <th>0</th>\n",
       "      <td>2</td>\n",
       "      <td>13</td>\n",
       "      <td>44</td>\n",
       "      <td>1</td>\n",
       "      <td>9</td>\n",
       "      <td>64.0</td>\n",
       "      <td>4</td>\n",
       "      <td>5</td>\n",
       "      <td>0.0</td>\n",
       "      <td>0</td>\n",
       "      <td>2</td>\n",
       "      <td>1</td>\n",
       "    </tr>\n",
       "    <tr>\n",
       "      <th>1</th>\n",
       "      <td>3</td>\n",
       "      <td>11</td>\n",
       "      <td>33</td>\n",
       "      <td>1</td>\n",
       "      <td>7</td>\n",
       "      <td>136.0</td>\n",
       "      <td>5</td>\n",
       "      <td>5</td>\n",
       "      <td>0.0</td>\n",
       "      <td>0</td>\n",
       "      <td>6</td>\n",
       "      <td>4</td>\n",
       "    </tr>\n",
       "    <tr>\n",
       "      <th>2</th>\n",
       "      <td>3</td>\n",
       "      <td>68</td>\n",
       "      <td>52</td>\n",
       "      <td>1</td>\n",
       "      <td>24</td>\n",
       "      <td>116.0</td>\n",
       "      <td>1</td>\n",
       "      <td>29</td>\n",
       "      <td>0.0</td>\n",
       "      <td>1</td>\n",
       "      <td>2</td>\n",
       "      <td>3</td>\n",
       "    </tr>\n",
       "    <tr>\n",
       "      <th>3</th>\n",
       "      <td>2</td>\n",
       "      <td>33</td>\n",
       "      <td>33</td>\n",
       "      <td>0</td>\n",
       "      <td>12</td>\n",
       "      <td>33.0</td>\n",
       "      <td>2</td>\n",
       "      <td>0</td>\n",
       "      <td>0.0</td>\n",
       "      <td>1</td>\n",
       "      <td>1</td>\n",
       "      <td>1</td>\n",
       "    </tr>\n",
       "    <tr>\n",
       "      <th>4</th>\n",
       "      <td>2</td>\n",
       "      <td>23</td>\n",
       "      <td>30</td>\n",
       "      <td>1</td>\n",
       "      <td>9</td>\n",
       "      <td>30.0</td>\n",
       "      <td>1</td>\n",
       "      <td>2</td>\n",
       "      <td>0.0</td>\n",
       "      <td>0</td>\n",
       "      <td>4</td>\n",
       "      <td>3</td>\n",
       "    </tr>\n",
       "  </tbody>\n",
       "</table>\n",
       "</div>"
      ],
      "text/plain": [
       "   region  tenure  age  marital  address  income  ed  employ  retire  gender  \\\n",
       "0       2      13   44        1        9    64.0   4       5     0.0       0   \n",
       "1       3      11   33        1        7   136.0   5       5     0.0       0   \n",
       "2       3      68   52        1       24   116.0   1      29     0.0       1   \n",
       "3       2      33   33        0       12    33.0   2       0     0.0       1   \n",
       "4       2      23   30        1        9    30.0   1       2     0.0       0   \n",
       "\n",
       "   reside  custcat  \n",
       "0       2        1  \n",
       "1       6        4  \n",
       "2       2        3  \n",
       "3       1        1  \n",
       "4       4        3  "
      ]
     },
     "execution_count": 16,
     "metadata": {},
     "output_type": "execute_result"
    }
   ],
   "source": [
    "df = pd.read_csv('teleCust1000t.csv')\n",
    "df.head()"
   ]
  },
  {
   "cell_type": "code",
   "execution_count": 17,
   "metadata": {},
   "outputs": [
    {
     "data": {
      "text/plain": [
       "custcat\n",
       "1    266\n",
       "2    217\n",
       "3    281\n",
       "4    236\n",
       "Name: count, dtype: int64"
      ]
     },
     "execution_count": 17,
     "metadata": {},
     "output_type": "execute_result"
    }
   ],
   "source": [
    "# number of each customer category type\n",
    "df['custcat'].value_counts().sort_index()\n",
    "# 1: Basic-service\n",
    "# 2: E-Service\n",
    "# 3: Plus Service\n",
    "# 4: Total Service"
   ]
  },
  {
   "cell_type": "code",
   "execution_count": 18,
   "metadata": {},
   "outputs": [
    {
     "data": {
      "text/plain": [
       "<Axes: >"
      ]
     },
     "execution_count": 18,
     "metadata": {},
     "output_type": "execute_result"
    },
    {
     "data": {
      "image/png": "[encoded data removed]",
      "text/plain": [
       "<Figure size 640x480 with 1 Axes>"
      ]
     },
     "metadata": {},
     "output_type": "display_data"
    }
   ],
   "source": [
    "df['income'].hist(bins=50)"
   ]
  },
  {
   "cell_type": "code",
   "execution_count": 19,
   "metadata": {},
   "outputs": [
    {
     "data": {
      "text/plain": [
       "Index(['region', 'tenure', 'age', 'marital', 'address', 'income', 'ed',\n",
       "       'employ', 'retire', 'gender', 'reside', 'custcat'],\n",
       "      dtype='object')"
      ]
     },
     "execution_count": 19,
     "metadata": {},
     "output_type": "execute_result"
    }
   ],
   "source": [
    "df.columns\n",
    "# custcat is the target variable"
   ]
  },
  {
   "cell_type": "code",
   "execution_count": 20,
   "metadata": {},
   "outputs": [],
   "source": [
    "# we used all variables as continues here, so check the result and compare it with the later approach\n",
    "from sklearn.preprocessing import StandardScaler\n",
    "\n",
    "X = df[['region', 'tenure','age', 'marital', 'address', 'income', 'ed', 'employ','retire', 'gender', 'reside']].values\n",
    "# for KNN we can use both pandas dataframe (here) or numpy array (by adding .values)\n",
    "# X must by 2D\n",
    "y = df['custcat'].values\n",
    "\n",
    "# standardize X\n",
    "X = StandardScaler().fit_transform(X.astype(float))  # gives a numpy, check below for situation we should convert it to pandas\n",
    "# in KNN (which is based on the distance of data points), Data Standardization is important, it gives the data zero mean and 1 std and variance\n",
    "# X.astype(float): to conver int to float. StandardScaler needs float numbers to work properly\n",
    "\n"
   ]
  },
  {
   "cell_type": "code",
   "execution_count": 21,
   "metadata": {},
   "outputs": [
    {
     "name": "stdout",
     "output_type": "stream",
     "text": [
      "(800, 11) = (800,)\n",
      "(200, 11) = (200,)\n"
     ]
    }
   ],
   "source": [
    "from sklearn.model_selection import train_test_split\n",
    "\n",
    "X_train, X_test, y_train, y_test = train_test_split(X, y, test_size=0.2, random_state=42)\n",
    "\n",
    "print(f\"{X_train.shape} = {y_train.shape}\")\n",
    "print(f\"{X_test.shape} = {y_test.shape}\")"
   ]
  },
  {
   "cell_type": "code",
   "execution_count": 22,
   "metadata": {},
   "outputs": [],
   "source": [
    "# first we have to chode the best n_neighbors\n",
    "\n",
    "# get the sqrt(row numbers(sample numbers)) -> if it is not an odd number consider -1 or + 1 to make it odd\n",
    "# now put that number in the model and try all odd numbers above and below that number to check which one has the maximum TEST set accuracy\n",
    "# there are more professinal ways, but this is the best I think"
   ]
  },
  {
   "cell_type": "code",
   "execution_count": 23,
   "metadata": {},
   "outputs": [
    {
     "name": "stdout",
     "output_type": "stream",
     "text": [
      "Train set Accuracy: 0.43375\n",
      "Test set Accuracy: 0.385\n"
     ]
    }
   ],
   "source": [
    "from sklearn.neighbors import KNeighborsClassifier\n",
    "from sklearn import metrics\n",
    "\n",
    "# for n_neighbor, I started with 31 (sqrt(1000 [number of rows])) then examine odd numbers around for highest test accuracy\n",
    "knn_model = KNeighborsClassifier(n_neighbors=39).fit(X_train, y_train)\n",
    "\n",
    "\n",
    "print('Train set Accuracy:', metrics.accuracy_score(y_train, knn_model.predict(X_train)))\n",
    "print('Test set Accuracy:', metrics.accuracy_score(y_test, knn_model.predict(X_test)))"
   ]
  },
  {
   "cell_type": "markdown",
   "metadata": {},
   "source": [
    "<details>\n",
    "<summary>Accuracy explanation</summary>\n",
    "Calculate the Accuracy of Train and Test datasets (we should calculate both)\n",
    "\n",
    "- Training Accuracy:\n",
    "\n",
    "Helps you understand how well your model fits the training data\n",
    "\n",
    "In KNN, training accuracy is often artificially high because each point perfectly \"knows\" its own nearest neighbors\n",
    "\n",
    "- Test Accuracy:\n",
    "\n",
    "Shows how well your model generalizes to new, unseen data\n",
    "\n",
    "More reliable indicator of real-world performance\n",
    "\n",
    "---\n",
    "If train accuracy is much higher than test accuracy, your model is likely overfitting\n",
    "\n",
    "If both accuracies are low, your model might be underfitting\n",
    "\n",
    "If both accuracies are similar and reasonably high, your model is likely well-balanced\n",
    "\n",
    "---\n",
    "\n",
    "The definition of \"good\" accuracy for a K-Nearest Neighbors (KNN) model really depends on several factors:\n",
    "\n",
    "- The complexity of your problem - For binary classification of well-separated data, you might expect 90%+ accuracy, but for complex multi-class problems, even 70% could be considered good.\n",
    "\n",
    "- The baseline/random performance - For a balanced binary classification, random guessing would give 50% accuracy. A \"good\" model should significantly outperform this baseline. For a 10-class problem, beating 10% (random) by a good margin would be your starting point.\n",
    "\n",
    "- Industry standards and requirements - In medical diagnosis, you might need 95%+ accuracy, while for product recommendations, 70% might be acceptable.\n",
    "\n",
    "- Comparison to other models - If other models (like Random Forest or SVM) achieve 75% accuracy on your dataset, then getting 78% with KNN could be considered good.\n",
    "</details>"
   ]
  },
  {
   "cell_type": "code",
   "execution_count": 24,
   "metadata": {},
   "outputs": [],
   "source": [
    "# not good here ^, because of the categorical variables like ['tenure', 'age', 'address', 'income', 'employ', 'reside']\n",
    "\n",
    "# Train accuracy of 54.37% is barely better than random guessing (%50)\n",
    "# Test accuracy of 32.5% is even worse than random guessing\n",
    "# The large gap between train and test accuracy (54.37% vs 32.5%) suggests overfitting\n",
    "\n",
    "# for KNN we need to encode categorical variables properly"
   ]
  },
  {
   "cell_type": "code",
   "execution_count": 25,
   "metadata": {},
   "outputs": [
    {
     "name": "stdout",
     "output_type": "stream",
     "text": [
      "Train set Accuracy: 0.42125\n",
      "Test set Accuracy: 0.39\n"
     ]
    }
   ],
   "source": [
    "# we separate continues and categorical here\n",
    "# in knn, like linear regression, we use pd.get_dummies() for categoricals\n",
    "# but in fact, in linear reg and knn it's better to use pd.get_dummies for nominal categoricals and use preprocessing.LabelEncoder() for ordinal categoricals\n",
    "# unike tree based models that is always safe to use .LabelEncoder()\n",
    "X2 = df[['tenure', 'age', 'income', 'employ']]\n",
    "X2_cat = df[['region', 'marital', 'ed', 'retire', 'gender']]\n",
    "\n",
    "y2 = df['custcat'].values\n",
    "\n",
    "# stnadardization is just for continues variables\n",
    "X2_scaled = StandardScaler().fit(X2).transform(X2.astype(float))\n",
    "# convert numpy to pandas\n",
    "X2_pandas = pd.DataFrame(X2_scaled, columns=X2.columns)\n",
    "# columns=X2.columns: to specifying the column names, instead of being just (0, 1, 2, 3) \n",
    "\n",
    "# encode catgoricals\n",
    "X2_cat_encoded = pd.get_dummies(X2_cat, drop_first=True)\n",
    "X2 = pd.concat([X2, X2_cat_encoded], axis=1)\n",
    "X2 = X2.values\n",
    "\n",
    "X2_train, X2_test, y2_train, y2_test = train_test_split(X2, y2, test_size=0.2, random_state=42)\n",
    "\n",
    "model2_knn = KNeighborsClassifier(n_neighbors=41).fit(X2_train, y2_train)\n",
    "\n",
    "print('Train set Accuracy:', metrics.accuracy_score(y2_train,model2_knn.predict(X2_train)))\n",
    "print('Test set Accuracy:', metrics.accuracy_score(y2_test, model2_knn.predict(X2_test)))"
   ]
  },
  {
   "cell_type": "code",
   "execution_count": 26,
   "metadata": {},
   "outputs": [],
   "source": [
    "# almost didn't change :))))\n",
    "# I think i had to include only the ones with positive relationship??"
   ]
  }
 ],
 "metadata": {
  "kernelspec": {
   "display_name": "Python 3",
   "language": "python",
   "name": "python3"
  },
  "language_info": {
   "codemirror_mode": {
    "name": "ipython",
    "version": 3
   },
   "file_extension": ".py",
   "mimetype": "text/x-python",
   "name": "python",
   "nbconvert_exporter": "python",
   "pygments_lexer": "ipython3",
   "version": "3.12.6"
  }
 },
 "nbformat": 4,
 "nbformat_minor": 4
}
