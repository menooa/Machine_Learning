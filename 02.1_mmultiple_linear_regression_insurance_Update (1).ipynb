{
  "cells": [
    {
      "cell_type": "markdown",
      "metadata": {
        "id": "Pxxp7S6uOcOW"
      },
      "source": [
        "$\\color{brown}{\\text{HCIN 620 Lab 3 Python Regression Algorithms}}$\n",
        "\n",
        "This notebook was adapted from https://www.kaggle.com/hely333/eda-regression\n",
        "The supervised linear regression model will determine the cost of treatment based on patient insurance data. In real life, the cost of treatment depends on many factors: diagnosis, type of clinic, city of residence, age and so on. This practice dataset has no data on diagnosis, but we have enough other information to practice regression analysis.\n",
        "\n",
        "We'll continue to use the 4-step approach with the following highlights\n",
        "*   Step 1: Environment Setup\n",
        "\n",
        "        import sklearn libraries for data preprocessing and regression analysis\n",
        "*   Step 2: Data Cleaning - check for missing values\n",
        "*   Step 3: Exploratory Data Analysis and data preprocessing\n",
        "         \n",
        "         Encode Categorical Variables\n",
        "         Select Targets and Features\n",
        "         Assign Targets and Features to linear regression variables x and y\n",
        "         Scale the data\n",
        "         Split the data\n",
        "*   Step 4: Build & Evaluate the Models\n",
        "\n",
        "        Linear Regression model\n",
        "\n",
        "\n",
        "\n",
        "[Data Dictionary](https://www.kaggle.com/hely333/eda-regression/data)\n",
        "\n",
        "\n",
        "Notebook by Reza Afra, Ph.D. and Barbara Berkovich, Ph.D., M.A.\n",
        "\n",
        "Revised by Thidarat Tinnakornsrisuphap, Ph.D."
      ]
    },
    {
      "cell_type": "markdown",
      "metadata": {
        "id": "ia6_JRmKciog"
      },
      "source": [
        "# **STEP 1: Environment Setup**"
      ]
    },
    {
      "cell_type": "markdown",
      "metadata": {
        "id": "WROQuTdSkVz5"
      },
      "source": [
        "**Import code libraries**\n",
        "The first set of libraries is the same as Module 2 with the addition of ([numpy.org](https://numpy.org)) to handle the array processing. </br>\n",
        "**Run Import 1.**\n"
      ]
    },
    {
      "cell_type": "code",
      "execution_count": 4,
      "metadata": {
        "colab": {
          "base_uri": "https://localhost:8080/"
        },
        "id": "h9bOx5_ekp0L",
        "outputId": "ac16ab79-e027-4591-b0f2-8df40851d54c"
      },
      "outputs": [
        {
          "name": "stdout",
          "output_type": "stream",
          "text": [
            "Import 1 complete\n"
          ]
        }
      ],
      "source": [
        "import pandas as pd             # data manipulation library\n",
        "import io                       # helps with input/output of csv files\n",
        "import matplotlib.pyplot as plt # a library to plot nice graphs\n",
        "plt.style.use('ggplot')\n",
        "import seaborn as sns           # plot style and color on next line\n",
        "sns.set_theme(style='white', palette='muted', color_codes=True)\n",
        "# old version: sns.set(style=\"white\", palette=\"muted\", color_codes=True)\n",
        "import numpy as np              # Fast array operations\n",
        "\n",
        "print('Import 1 complete')"
      ]
    },
    {
      "cell_type": "markdown",
      "metadata": {
        "id": "J1SRNx5HZyUl"
      },
      "source": [
        "Scikit Learn (Rhymes with psychic) is the main machine learning library in Python. The [scikit-learn.org](https://scikit-learn.org/stable/) maintains the open source code. </br>\n",
        "\n",
        "**Question 1** Comment each line code in the sklearn imports below to briefly describe how each library is used. Start the inline comments with a #. The first one has been done for you.\n",
        "\n",
        "**Run the code to complete the import 2.**"
      ]
    },
    {
      "cell_type": "code",
      "execution_count": 5,
      "metadata": {
        "colab": {
          "base_uri": "https://localhost:8080/"
        },
        "id": "LldIiRfufAD5",
        "outputId": "e67f427a-b3b1-4367-f406-e986cff3177c"
      },
      "outputs": [
        {
          "name": "stdout",
          "output_type": "stream",
          "text": [
            "Import 2 complete\n"
          ]
        }
      ],
      "source": [
        "from sklearn.preprocessing import LabelEncoder             # Changes categorical text data to numeric\n",
        "from sklearn.preprocessing import StandardScaler           # Standardizes the data to have a mean of 0 and a standard deciation of 0\n",
        "from sklearn.model_selection import train_test_split       # Splits the dataset into train and test sets\n",
        "from sklearn.linear_model import LinearRegression          # Build a Linear Regression model\n",
        "from sklearn.metrics import r2_score                       # Calculate the R-squared score\n",
        "from sklearn.metrics import mean_squared_error             # Calculates the mean squared error\n",
        "from sklearn.ensemble import RandomForestRegressor         # Creates a Random Forest Regression model\n",
        "\n",
        "print('Import 2 complete')"
      ]
    },
    {
      "cell_type": "markdown",
      "metadata": {
        "id": "5_QgiFJXprQn"
      },
      "source": [
        "#**STEP 2: Data Cleaning**"
      ]
    },
    {
      "cell_type": "markdown",
      "metadata": {
        "_uuid": "30e2ecc0679548b3d7dc884e02a4213304d46843",
        "id": "M54X4Ia8KdrE"
      },
      "source": [
        "**Use the Folder and upload icons (left) to upload data-lab-3-insurance.csv**\n"
      ]
    },
    {
      "cell_type": "markdown",
      "metadata": {
        "id": "CoNA36yjjByq"
      },
      "source": [
        "**Run the code** to read the insurance data in the Colab Runtime Environment."
      ]
    },
    {
      "cell_type": "code",
      "execution_count": 6,
      "metadata": {
        "colab": {
          "base_uri": "https://localhost:8080/"
        },
        "id": "pM6aAJDPkIr9",
        "outputId": "1992adbd-92e1-482c-baa2-a86c6f51083f"
      },
      "outputs": [
        {
          "name": "stdout",
          "output_type": "stream",
          "text": [
            "Data connection complete\n"
          ]
        }
      ],
      "source": [
        "data = pd.read_csv('data-lab-3-insurance.csv')\n",
        "print('Data connection complete')\n",
        "\n"
      ]
    },
    {
      "cell_type": "markdown",
      "metadata": {
        "id": "XumqlMjyjTS6"
      },
      "source": [
        "**Question 2** Insert the Python command to display first 5 rows of data. </br>\n",
        "Run it."
      ]
    },
    {
      "cell_type": "code",
      "execution_count": 7,
      "metadata": {
        "colab": {
          "base_uri": "https://localhost:8080/",
          "height": 206
        },
        "id": "40d6PVGnjqpN",
        "outputId": "4b9324ae-f7f8-4115-a037-a6f78e8a0fab"
      },
      "outputs": [
        {
          "data": {
            "application/vnd.google.colaboratory.intrinsic+json": {
              "summary": "{\n  \"name\": \"data\",\n  \"rows\": 1338,\n  \"fields\": [\n    {\n      \"column\": \"age\",\n      \"properties\": {\n        \"dtype\": \"number\",\n        \"std\": 14,\n        \"min\": 18,\n        \"max\": 64,\n        \"num_unique_values\": 47,\n        \"samples\": [\n          21,\n          45,\n          36\n        ],\n        \"semantic_type\": \"\",\n        \"description\": \"\"\n      }\n    },\n    {\n      \"column\": \"sex\",\n      \"properties\": {\n        \"dtype\": \"category\",\n        \"num_unique_values\": 2,\n        \"samples\": [\n          \"male\",\n          \"female\"\n        ],\n        \"semantic_type\": \"\",\n        \"description\": \"\"\n      }\n    },\n    {\n      \"column\": \"bmi\",\n      \"properties\": {\n        \"dtype\": \"number\",\n        \"std\": 6.098186911679017,\n        \"min\": 15.96,\n        \"max\": 53.13,\n        \"num_unique_values\": 548,\n        \"samples\": [\n          23.18,\n          26.885\n        ],\n        \"semantic_type\": \"\",\n        \"description\": \"\"\n      }\n    },\n    {\n      \"column\": \"children\",\n      \"properties\": {\n        \"dtype\": \"number\",\n        \"std\": 1,\n        \"min\": 0,\n        \"max\": 5,\n        \"num_unique_values\": 6,\n        \"samples\": [\n          0,\n          1\n        ],\n        \"semantic_type\": \"\",\n        \"description\": \"\"\n      }\n    },\n    {\n      \"column\": \"smoker\",\n      \"properties\": {\n        \"dtype\": \"category\",\n        \"num_unique_values\": 2,\n        \"samples\": [\n          \"no\",\n          \"yes\"\n        ],\n        \"semantic_type\": \"\",\n        \"description\": \"\"\n      }\n    },\n    {\n      \"column\": \"region\",\n      \"properties\": {\n        \"dtype\": \"category\",\n        \"num_unique_values\": 4,\n        \"samples\": [\n          \"southeast\",\n          \"northeast\"\n        ],\n        \"semantic_type\": \"\",\n        \"description\": \"\"\n      }\n    },\n    {\n      \"column\": \"charges\",\n      \"properties\": {\n        \"dtype\": \"number\",\n        \"std\": 12110.011236693994,\n        \"min\": 1121.8739,\n        \"max\": 63770.42801,\n        \"num_unique_values\": 1337,\n        \"samples\": [\n          8688.85885,\n          5708.867\n        ],\n        \"semantic_type\": \"\",\n        \"description\": \"\"\n      }\n    }\n  ]\n}",
              "type": "dataframe",
              "variable_name": "data"
            },
            "text/html": [
              "\n",
              "  <div id=\"df-acd5de69-da76-4bac-9de6-94afb631429b\" class=\"colab-df-container\">\n",
              "    <div>\n",
              "<style scoped>\n",
              "    .dataframe tbody tr th:only-of-type {\n",
              "        vertical-align: middle;\n",
              "    }\n",
              "\n",
              "    .dataframe tbody tr th {\n",
              "        vertical-align: top;\n",
              "    }\n",
              "\n",
              "    .dataframe thead th {\n",
              "        text-align: right;\n",
              "    }\n",
              "</style>\n",
              "<table border=\"1\" class=\"dataframe\">\n",
              "  <thead>\n",
              "    <tr style=\"text-align: right;\">\n",
              "      <th></th>\n",
              "      <th>age</th>\n",
              "      <th>sex</th>\n",
              "      <th>bmi</th>\n",
              "      <th>children</th>\n",
              "      <th>smoker</th>\n",
              "      <th>region</th>\n",
              "      <th>charges</th>\n",
              "    </tr>\n",
              "  </thead>\n",
              "  <tbody>\n",
              "    <tr>\n",
              "      <th>0</th>\n",
              "      <td>19</td>\n",
              "      <td>female</td>\n",
              "      <td>27.900</td>\n",
              "      <td>0</td>\n",
              "      <td>yes</td>\n",
              "      <td>southwest</td>\n",
              "      <td>16884.92400</td>\n",
              "    </tr>\n",
              "    <tr>\n",
              "      <th>1</th>\n",
              "      <td>18</td>\n",
              "      <td>male</td>\n",
              "      <td>33.770</td>\n",
              "      <td>1</td>\n",
              "      <td>no</td>\n",
              "      <td>southeast</td>\n",
              "      <td>1725.55230</td>\n",
              "    </tr>\n",
              "    <tr>\n",
              "      <th>2</th>\n",
              "      <td>28</td>\n",
              "      <td>male</td>\n",
              "      <td>33.000</td>\n",
              "      <td>3</td>\n",
              "      <td>no</td>\n",
              "      <td>southeast</td>\n",
              "      <td>4449.46200</td>\n",
              "    </tr>\n",
              "    <tr>\n",
              "      <th>3</th>\n",
              "      <td>33</td>\n",
              "      <td>male</td>\n",
              "      <td>22.705</td>\n",
              "      <td>0</td>\n",
              "      <td>no</td>\n",
              "      <td>northwest</td>\n",
              "      <td>21984.47061</td>\n",
              "    </tr>\n",
              "    <tr>\n",
              "      <th>4</th>\n",
              "      <td>32</td>\n",
              "      <td>male</td>\n",
              "      <td>28.880</td>\n",
              "      <td>0</td>\n",
              "      <td>no</td>\n",
              "      <td>northwest</td>\n",
              "      <td>3866.85520</td>\n",
              "    </tr>\n",
              "  </tbody>\n",
              "</table>\n",
              "</div>\n",
              "    <div class=\"colab-df-buttons\">\n",
              "\n",
              "  <div class=\"colab-df-container\">\n",
              "    <button class=\"colab-df-convert\" onclick=\"convertToInteractive('df-acd5de69-da76-4bac-9de6-94afb631429b')\"\n",
              "            title=\"Convert this dataframe to an interactive table.\"\n",
              "            style=\"display:none;\">\n",
              "\n",
              "  <svg xmlns=\"http://www.w3.org/2000/svg\" height=\"24px\" viewBox=\"0 -960 960 960\">\n",
              "    <path d=\"M120-120v-720h720v720H120Zm60-500h600v-160H180v160Zm220 220h160v-160H400v160Zm0 220h160v-160H400v160ZM180-400h160v-160H180v160Zm440 0h160v-160H620v160ZM180-180h160v-160H180v160Zm440 0h160v-160H620v160Z\"/>\n",
              "  </svg>\n",
              "    </button>\n",
              "\n",
              "  <style>\n",
              "    .colab-df-container {\n",
              "      display:flex;\n",
              "      gap: 12px;\n",
              "    }\n",
              "\n",
              "    .colab-df-convert {\n",
              "      background-color: #E8F0FE;\n",
              "      border: none;\n",
              "      border-radius: 50%;\n",
              "      cursor: pointer;\n",
              "      display: none;\n",
              "      fill: #1967D2;\n",
              "      height: 32px;\n",
              "      padding: 0 0 0 0;\n",
              "      width: 32px;\n",
              "    }\n",
              "\n",
              "    .colab-df-convert:hover {\n",
              "      background-color: #E2EBFA;\n",
              "      box-shadow: 0px 1px 2px rgba(60, 64, 67, 0.3), 0px 1px 3px 1px rgba(60, 64, 67, 0.15);\n",
              "      fill: #174EA6;\n",
              "    }\n",
              "\n",
              "    .colab-df-buttons div {\n",
              "      margin-bottom: 4px;\n",
              "    }\n",
              "\n",
              "    [theme=dark] .colab-df-convert {\n",
              "      background-color: #3B4455;\n",
              "      fill: #D2E3FC;\n",
              "    }\n",
              "\n",
              "    [theme=dark] .colab-df-convert:hover {\n",
              "      background-color: #434B5C;\n",
              "      box-shadow: 0px 1px 3px 1px rgba(0, 0, 0, 0.15);\n",
              "      filter: drop-shadow(0px 1px 2px rgba(0, 0, 0, 0.3));\n",
              "      fill: #FFFFFF;\n",
              "    }\n",
              "  </style>\n",
              "\n",
              "    <script>\n",
              "      const buttonEl =\n",
              "        document.querySelector('#df-acd5de69-da76-4bac-9de6-94afb631429b button.colab-df-convert');\n",
              "      buttonEl.style.display =\n",
              "        google.colab.kernel.accessAllowed ? 'block' : 'none';\n",
              "\n",
              "      async function convertToInteractive(key) {\n",
              "        const element = document.querySelector('#df-acd5de69-da76-4bac-9de6-94afb631429b');\n",
              "        const dataTable =\n",
              "          await google.colab.kernel.invokeFunction('convertToInteractive',\n",
              "                                                    [key], {});\n",
              "        if (!dataTable) return;\n",
              "\n",
              "        const docLinkHtml = 'Like what you see? Visit the ' +\n",
              "          '<a target=\"_blank\" href=https://colab.research.google.com/notebooks/data_table.ipynb>data table notebook</a>'\n",
              "          + ' to learn more about interactive tables.';\n",
              "        element.innerHTML = '';\n",
              "        dataTable['output_type'] = 'display_data';\n",
              "        await google.colab.output.renderOutput(dataTable, element);\n",
              "        const docLink = document.createElement('div');\n",
              "        docLink.innerHTML = docLinkHtml;\n",
              "        element.appendChild(docLink);\n",
              "      }\n",
              "    </script>\n",
              "  </div>\n",
              "\n",
              "\n",
              "<div id=\"df-ebe9a67d-58bf-42f5-9554-e3d951a152df\">\n",
              "  <button class=\"colab-df-quickchart\" onclick=\"quickchart('df-ebe9a67d-58bf-42f5-9554-e3d951a152df')\"\n",
              "            title=\"Suggest charts\"\n",
              "            style=\"display:none;\">\n",
              "\n",
              "<svg xmlns=\"http://www.w3.org/2000/svg\" height=\"24px\"viewBox=\"0 0 24 24\"\n",
              "     width=\"24px\">\n",
              "    <g>\n",
              "        <path d=\"M19 3H5c-1.1 0-2 .9-2 2v14c0 1.1.9 2 2 2h14c1.1 0 2-.9 2-2V5c0-1.1-.9-2-2-2zM9 17H7v-7h2v7zm4 0h-2V7h2v10zm4 0h-2v-4h2v4z\"/>\n",
              "    </g>\n",
              "</svg>\n",
              "  </button>\n",
              "\n",
              "<style>\n",
              "  .colab-df-quickchart {\n",
              "      --bg-color: #E8F0FE;\n",
              "      --fill-color: #1967D2;\n",
              "      --hover-bg-color: #E2EBFA;\n",
              "      --hover-fill-color: #174EA6;\n",
              "      --disabled-fill-color: #AAA;\n",
              "      --disabled-bg-color: #DDD;\n",
              "  }\n",
              "\n",
              "  [theme=dark] .colab-df-quickchart {\n",
              "      --bg-color: #3B4455;\n",
              "      --fill-color: #D2E3FC;\n",
              "      --hover-bg-color: #434B5C;\n",
              "      --hover-fill-color: #FFFFFF;\n",
              "      --disabled-bg-color: #3B4455;\n",
              "      --disabled-fill-color: #666;\n",
              "  }\n",
              "\n",
              "  .colab-df-quickchart {\n",
              "    background-color: var(--bg-color);\n",
              "    border: none;\n",
              "    border-radius: 50%;\n",
              "    cursor: pointer;\n",
              "    display: none;\n",
              "    fill: var(--fill-color);\n",
              "    height: 32px;\n",
              "    padding: 0;\n",
              "    width: 32px;\n",
              "  }\n",
              "\n",
              "  .colab-df-quickchart:hover {\n",
              "    background-color: var(--hover-bg-color);\n",
              "    box-shadow: 0 1px 2px rgba(60, 64, 67, 0.3), 0 1px 3px 1px rgba(60, 64, 67, 0.15);\n",
              "    fill: var(--button-hover-fill-color);\n",
              "  }\n",
              "\n",
              "  .colab-df-quickchart-complete:disabled,\n",
              "  .colab-df-quickchart-complete:disabled:hover {\n",
              "    background-color: var(--disabled-bg-color);\n",
              "    fill: var(--disabled-fill-color);\n",
              "    box-shadow: none;\n",
              "  }\n",
              "\n",
              "  .colab-df-spinner {\n",
              "    border: 2px solid var(--fill-color);\n",
              "    border-color: transparent;\n",
              "    border-bottom-color: var(--fill-color);\n",
              "    animation:\n",
              "      spin 1s steps(1) infinite;\n",
              "  }\n",
              "\n",
              "  @keyframes spin {\n",
              "    0% {\n",
              "      border-color: transparent;\n",
              "      border-bottom-color: var(--fill-color);\n",
              "      border-left-color: var(--fill-color);\n",
              "    }\n",
              "    20% {\n",
              "      border-color: transparent;\n",
              "      border-left-color: var(--fill-color);\n",
              "      border-top-color: var(--fill-color);\n",
              "    }\n",
              "    30% {\n",
              "      border-color: transparent;\n",
              "      border-left-color: var(--fill-color);\n",
              "      border-top-color: var(--fill-color);\n",
              "      border-right-color: var(--fill-color);\n",
              "    }\n",
              "    40% {\n",
              "      border-color: transparent;\n",
              "      border-right-color: var(--fill-color);\n",
              "      border-top-color: var(--fill-color);\n",
              "    }\n",
              "    60% {\n",
              "      border-color: transparent;\n",
              "      border-right-color: var(--fill-color);\n",
              "    }\n",
              "    80% {\n",
              "      border-color: transparent;\n",
              "      border-right-color: var(--fill-color);\n",
              "      border-bottom-color: var(--fill-color);\n",
              "    }\n",
              "    90% {\n",
              "      border-color: transparent;\n",
              "      border-bottom-color: var(--fill-color);\n",
              "    }\n",
              "  }\n",
              "</style>\n",
              "\n",
              "  <script>\n",
              "    async function quickchart(key) {\n",
              "      const quickchartButtonEl =\n",
              "        document.querySelector('#' + key + ' button');\n",
              "      quickchartButtonEl.disabled = true;  // To prevent multiple clicks.\n",
              "      quickchartButtonEl.classList.add('colab-df-spinner');\n",
              "      try {\n",
              "        const charts = await google.colab.kernel.invokeFunction(\n",
              "            'suggestCharts', [key], {});\n",
              "      } catch (error) {\n",
              "        console.error('Error during call to suggestCharts:', error);\n",
              "      }\n",
              "      quickchartButtonEl.classList.remove('colab-df-spinner');\n",
              "      quickchartButtonEl.classList.add('colab-df-quickchart-complete');\n",
              "    }\n",
              "    (() => {\n",
              "      let quickchartButtonEl =\n",
              "        document.querySelector('#df-ebe9a67d-58bf-42f5-9554-e3d951a152df button');\n",
              "      quickchartButtonEl.style.display =\n",
              "        google.colab.kernel.accessAllowed ? 'block' : 'none';\n",
              "    })();\n",
              "  </script>\n",
              "</div>\n",
              "\n",
              "    </div>\n",
              "  </div>\n"
            ],
            "text/plain": [
              "   age     sex     bmi  children smoker     region      charges\n",
              "0   19  female  27.900         0    yes  southwest  16884.92400\n",
              "1   18    male  33.770         1     no  southeast   1725.55230\n",
              "2   28    male  33.000         3     no  southeast   4449.46200\n",
              "3   33    male  22.705         0     no  northwest  21984.47061\n",
              "4   32    male  28.880         0     no  northwest   3866.85520"
            ]
          },
          "execution_count": 7,
          "metadata": {},
          "output_type": "execute_result"
        }
      ],
      "source": [
        "# Add code here to display the first 5 rows of data\n",
        "data.head(5)\n",
        "\n"
      ]
    },
    {
      "cell_type": "markdown",
      "metadata": {
        "id": "bobHfNHfl4SH"
      },
      "source": [
        "**Run the code below to check for null values.**"
      ]
    },
    {
      "cell_type": "code",
      "execution_count": 8,
      "metadata": {
        "_uuid": "6e52e4345af572ad533c561f955789c42dbbb4e7",
        "colab": {
          "base_uri": "https://localhost:8080/",
          "height": 303
        },
        "id": "AGO2hxllKdrH",
        "outputId": "5a9cf668-2e43-490d-d1d3-48bc0190d284",
        "trusted": true
      },
      "outputs": [
        {
          "data": {
            "text/html": [
              "<div>\n",
              "<style scoped>\n",
              "    .dataframe tbody tr th:only-of-type {\n",
              "        vertical-align: middle;\n",
              "    }\n",
              "\n",
              "    .dataframe tbody tr th {\n",
              "        vertical-align: top;\n",
              "    }\n",
              "\n",
              "    .dataframe thead th {\n",
              "        text-align: right;\n",
              "    }\n",
              "</style>\n",
              "<table border=\"1\" class=\"dataframe\">\n",
              "  <thead>\n",
              "    <tr style=\"text-align: right;\">\n",
              "      <th></th>\n",
              "      <th>0</th>\n",
              "    </tr>\n",
              "  </thead>\n",
              "  <tbody>\n",
              "    <tr>\n",
              "      <th>age</th>\n",
              "      <td>0</td>\n",
              "    </tr>\n",
              "    <tr>\n",
              "      <th>sex</th>\n",
              "      <td>0</td>\n",
              "    </tr>\n",
              "    <tr>\n",
              "      <th>bmi</th>\n",
              "      <td>0</td>\n",
              "    </tr>\n",
              "    <tr>\n",
              "      <th>children</th>\n",
              "      <td>0</td>\n",
              "    </tr>\n",
              "    <tr>\n",
              "      <th>smoker</th>\n",
              "      <td>0</td>\n",
              "    </tr>\n",
              "    <tr>\n",
              "      <th>region</th>\n",
              "      <td>0</td>\n",
              "    </tr>\n",
              "    <tr>\n",
              "      <th>charges</th>\n",
              "      <td>0</td>\n",
              "    </tr>\n",
              "  </tbody>\n",
              "</table>\n",
              "</div><br><label><b>dtype:</b> int64</label>"
            ],
            "text/plain": [
              "age         0\n",
              "sex         0\n",
              "bmi         0\n",
              "children    0\n",
              "smoker      0\n",
              "region      0\n",
              "charges     0\n",
              "dtype: int64"
            ]
          },
          "execution_count": 8,
          "metadata": {},
          "output_type": "execute_result"
        }
      ],
      "source": [
        "data.isnull().sum()"
      ]
    },
    {
      "cell_type": "markdown",
      "metadata": {
        "id": "r-A3r-troEjE"
      },
      "source": [
        "**Question 3**  Interpret the results of the null test. What actions, if any are required to handle nulls?\n",
        "\n",
        "**Answer 3** None of the columns have null values, so no action needed."
      ]
    },
    {
      "cell_type": "markdown",
      "metadata": {
        "id": "1PmsD0-bmeCM"
      },
      "source": [
        "# **STEP 3: Exploratory Data Analysis(EDA) and Preprocessing**"
      ]
    },
    {
      "cell_type": "markdown",
      "metadata": {
        "id": "N8dWrOIEWdlj"
      },
      "source": [
        "##Encode Categorical Variables\n"
      ]
    },
    {
      "cell_type": "markdown",
      "metadata": {
        "_uuid": "b5c5638d94dd67c30fa6e0937b0f7147ab30ae76",
        "id": "R5WkOEJmKdrK"
      },
      "source": [
        "\n",
        "The categorical variables in our data are sex, smoker and region.\n",
        "Since the regression model can't handle text directly, we need to encode the categorical data as numeric 1's and 0's.\n",
        "\n",
        "**Run the python code** to encode the categorical variables.\n",
        "\n"
      ]
    },
    {
      "cell_type": "code",
      "execution_count": 9,
      "metadata": {
        "_uuid": "9a65199cbbaa94b4a9edf744e23529d4e842cd6d",
        "colab": {
          "base_uri": "https://localhost:8080/",
          "height": 206
        },
        "id": "oKmS4MjlKdrL",
        "outputId": "5fed97ac-e125-4bd4-9daf-9bf73ce33767",
        "trusted": true
      },
      "outputs": [
        {
          "data": {
            "application/vnd.google.colaboratory.intrinsic+json": {
              "summary": "{\n  \"name\": \"data\",\n  \"rows\": 1338,\n  \"fields\": [\n    {\n      \"column\": \"age\",\n      \"properties\": {\n        \"dtype\": \"number\",\n        \"std\": 14,\n        \"min\": 18,\n        \"max\": 64,\n        \"num_unique_values\": 47,\n        \"samples\": [\n          21,\n          45,\n          36\n        ],\n        \"semantic_type\": \"\",\n        \"description\": \"\"\n      }\n    },\n    {\n      \"column\": \"sex\",\n      \"properties\": {\n        \"dtype\": \"number\",\n        \"std\": 0,\n        \"min\": 0,\n        \"max\": 1,\n        \"num_unique_values\": 2,\n        \"samples\": [\n          1,\n          0\n        ],\n        \"semantic_type\": \"\",\n        \"description\": \"\"\n      }\n    },\n    {\n      \"column\": \"bmi\",\n      \"properties\": {\n        \"dtype\": \"number\",\n        \"std\": 6.098186911679017,\n        \"min\": 15.96,\n        \"max\": 53.13,\n        \"num_unique_values\": 548,\n        \"samples\": [\n          23.18,\n          26.885\n        ],\n        \"semantic_type\": \"\",\n        \"description\": \"\"\n      }\n    },\n    {\n      \"column\": \"children\",\n      \"properties\": {\n        \"dtype\": \"number\",\n        \"std\": 1,\n        \"min\": 0,\n        \"max\": 5,\n        \"num_unique_values\": 6,\n        \"samples\": [\n          0,\n          1\n        ],\n        \"semantic_type\": \"\",\n        \"description\": \"\"\n      }\n    },\n    {\n      \"column\": \"smoker\",\n      \"properties\": {\n        \"dtype\": \"number\",\n        \"std\": 0,\n        \"min\": 0,\n        \"max\": 1,\n        \"num_unique_values\": 2,\n        \"samples\": [\n          0,\n          1\n        ],\n        \"semantic_type\": \"\",\n        \"description\": \"\"\n      }\n    },\n    {\n      \"column\": \"region\",\n      \"properties\": {\n        \"dtype\": \"number\",\n        \"std\": 1,\n        \"min\": 0,\n        \"max\": 3,\n        \"num_unique_values\": 4,\n        \"samples\": [\n          2,\n          0\n        ],\n        \"semantic_type\": \"\",\n        \"description\": \"\"\n      }\n    },\n    {\n      \"column\": \"charges\",\n      \"properties\": {\n        \"dtype\": \"number\",\n        \"std\": 12110.011236693994,\n        \"min\": 1121.8739,\n        \"max\": 63770.42801,\n        \"num_unique_values\": 1337,\n        \"samples\": [\n          8688.85885,\n          5708.867\n        ],\n        \"semantic_type\": \"\",\n        \"description\": \"\"\n      }\n    }\n  ]\n}",
              "type": "dataframe",
              "variable_name": "data"
            },
            "text/html": [
              "\n",
              "  <div id=\"df-868f77b5-af98-430c-9a22-80dc19cf7fbe\" class=\"colab-df-container\">\n",
              "    <div>\n",
              "<style scoped>\n",
              "    .dataframe tbody tr th:only-of-type {\n",
              "        vertical-align: middle;\n",
              "    }\n",
              "\n",
              "    .dataframe tbody tr th {\n",
              "        vertical-align: top;\n",
              "    }\n",
              "\n",
              "    .dataframe thead th {\n",
              "        text-align: right;\n",
              "    }\n",
              "</style>\n",
              "<table border=\"1\" class=\"dataframe\">\n",
              "  <thead>\n",
              "    <tr style=\"text-align: right;\">\n",
              "      <th></th>\n",
              "      <th>age</th>\n",
              "      <th>sex</th>\n",
              "      <th>bmi</th>\n",
              "      <th>children</th>\n",
              "      <th>smoker</th>\n",
              "      <th>region</th>\n",
              "      <th>charges</th>\n",
              "    </tr>\n",
              "  </thead>\n",
              "  <tbody>\n",
              "    <tr>\n",
              "      <th>0</th>\n",
              "      <td>19</td>\n",
              "      <td>0</td>\n",
              "      <td>27.900</td>\n",
              "      <td>0</td>\n",
              "      <td>1</td>\n",
              "      <td>3</td>\n",
              "      <td>16884.92400</td>\n",
              "    </tr>\n",
              "    <tr>\n",
              "      <th>1</th>\n",
              "      <td>18</td>\n",
              "      <td>1</td>\n",
              "      <td>33.770</td>\n",
              "      <td>1</td>\n",
              "      <td>0</td>\n",
              "      <td>2</td>\n",
              "      <td>1725.55230</td>\n",
              "    </tr>\n",
              "    <tr>\n",
              "      <th>2</th>\n",
              "      <td>28</td>\n",
              "      <td>1</td>\n",
              "      <td>33.000</td>\n",
              "      <td>3</td>\n",
              "      <td>0</td>\n",
              "      <td>2</td>\n",
              "      <td>4449.46200</td>\n",
              "    </tr>\n",
              "    <tr>\n",
              "      <th>3</th>\n",
              "      <td>33</td>\n",
              "      <td>1</td>\n",
              "      <td>22.705</td>\n",
              "      <td>0</td>\n",
              "      <td>0</td>\n",
              "      <td>1</td>\n",
              "      <td>21984.47061</td>\n",
              "    </tr>\n",
              "    <tr>\n",
              "      <th>4</th>\n",
              "      <td>32</td>\n",
              "      <td>1</td>\n",
              "      <td>28.880</td>\n",
              "      <td>0</td>\n",
              "      <td>0</td>\n",
              "      <td>1</td>\n",
              "      <td>3866.85520</td>\n",
              "    </tr>\n",
              "  </tbody>\n",
              "</table>\n",
              "</div>\n",
              "    <div class=\"colab-df-buttons\">\n",
              "\n",
              "  <div class=\"colab-df-container\">\n",
              "    <button class=\"colab-df-convert\" onclick=\"convertToInteractive('df-868f77b5-af98-430c-9a22-80dc19cf7fbe')\"\n",
              "            title=\"Convert this dataframe to an interactive table.\"\n",
              "            style=\"display:none;\">\n",
              "\n",
              "  <svg xmlns=\"http://www.w3.org/2000/svg\" height=\"24px\" viewBox=\"0 -960 960 960\">\n",
              "    <path d=\"M120-120v-720h720v720H120Zm60-500h600v-160H180v160Zm220 220h160v-160H400v160Zm0 220h160v-160H400v160ZM180-400h160v-160H180v160Zm440 0h160v-160H620v160ZM180-180h160v-160H180v160Zm440 0h160v-160H620v160Z\"/>\n",
              "  </svg>\n",
              "    </button>\n",
              "\n",
              "  <style>\n",
              "    .colab-df-container {\n",
              "      display:flex;\n",
              "      gap: 12px;\n",
              "    }\n",
              "\n",
              "    .colab-df-convert {\n",
              "      background-color: #E8F0FE;\n",
              "      border: none;\n",
              "      border-radius: 50%;\n",
              "      cursor: pointer;\n",
              "      display: none;\n",
              "      fill: #1967D2;\n",
              "      height: 32px;\n",
              "      padding: 0 0 0 0;\n",
              "      width: 32px;\n",
              "    }\n",
              "\n",
              "    .colab-df-convert:hover {\n",
              "      background-color: #E2EBFA;\n",
              "      box-shadow: 0px 1px 2px rgba(60, 64, 67, 0.3), 0px 1px 3px 1px rgba(60, 64, 67, 0.15);\n",
              "      fill: #174EA6;\n",
              "    }\n",
              "\n",
              "    .colab-df-buttons div {\n",
              "      margin-bottom: 4px;\n",
              "    }\n",
              "\n",
              "    [theme=dark] .colab-df-convert {\n",
              "      background-color: #3B4455;\n",
              "      fill: #D2E3FC;\n",
              "    }\n",
              "\n",
              "    [theme=dark] .colab-df-convert:hover {\n",
              "      background-color: #434B5C;\n",
              "      box-shadow: 0px 1px 3px 1px rgba(0, 0, 0, 0.15);\n",
              "      filter: drop-shadow(0px 1px 2px rgba(0, 0, 0, 0.3));\n",
              "      fill: #FFFFFF;\n",
              "    }\n",
              "  </style>\n",
              "\n",
              "    <script>\n",
              "      const buttonEl =\n",
              "        document.querySelector('#df-868f77b5-af98-430c-9a22-80dc19cf7fbe button.colab-df-convert');\n",
              "      buttonEl.style.display =\n",
              "        google.colab.kernel.accessAllowed ? 'block' : 'none';\n",
              "\n",
              "      async function convertToInteractive(key) {\n",
              "        const element = document.querySelector('#df-868f77b5-af98-430c-9a22-80dc19cf7fbe');\n",
              "        const dataTable =\n",
              "          await google.colab.kernel.invokeFunction('convertToInteractive',\n",
              "                                                    [key], {});\n",
              "        if (!dataTable) return;\n",
              "\n",
              "        const docLinkHtml = 'Like what you see? Visit the ' +\n",
              "          '<a target=\"_blank\" href=https://colab.research.google.com/notebooks/data_table.ipynb>data table notebook</a>'\n",
              "          + ' to learn more about interactive tables.';\n",
              "        element.innerHTML = '';\n",
              "        dataTable['output_type'] = 'display_data';\n",
              "        await google.colab.output.renderOutput(dataTable, element);\n",
              "        const docLink = document.createElement('div');\n",
              "        docLink.innerHTML = docLinkHtml;\n",
              "        element.appendChild(docLink);\n",
              "      }\n",
              "    </script>\n",
              "  </div>\n",
              "\n",
              "\n",
              "<div id=\"df-b195c66d-8dd3-42ce-b36d-d4763ff06ae9\">\n",
              "  <button class=\"colab-df-quickchart\" onclick=\"quickchart('df-b195c66d-8dd3-42ce-b36d-d4763ff06ae9')\"\n",
              "            title=\"Suggest charts\"\n",
              "            style=\"display:none;\">\n",
              "\n",
              "<svg xmlns=\"http://www.w3.org/2000/svg\" height=\"24px\"viewBox=\"0 0 24 24\"\n",
              "     width=\"24px\">\n",
              "    <g>\n",
              "        <path d=\"M19 3H5c-1.1 0-2 .9-2 2v14c0 1.1.9 2 2 2h14c1.1 0 2-.9 2-2V5c0-1.1-.9-2-2-2zM9 17H7v-7h2v7zm4 0h-2V7h2v10zm4 0h-2v-4h2v4z\"/>\n",
              "    </g>\n",
              "</svg>\n",
              "  </button>\n",
              "\n",
              "<style>\n",
              "  .colab-df-quickchart {\n",
              "      --bg-color: #E8F0FE;\n",
              "      --fill-color: #1967D2;\n",
              "      --hover-bg-color: #E2EBFA;\n",
              "      --hover-fill-color: #174EA6;\n",
              "      --disabled-fill-color: #AAA;\n",
              "      --disabled-bg-color: #DDD;\n",
              "  }\n",
              "\n",
              "  [theme=dark] .colab-df-quickchart {\n",
              "      --bg-color: #3B4455;\n",
              "      --fill-color: #D2E3FC;\n",
              "      --hover-bg-color: #434B5C;\n",
              "      --hover-fill-color: #FFFFFF;\n",
              "      --disabled-bg-color: #3B4455;\n",
              "      --disabled-fill-color: #666;\n",
              "  }\n",
              "\n",
              "  .colab-df-quickchart {\n",
              "    background-color: var(--bg-color);\n",
              "    border: none;\n",
              "    border-radius: 50%;\n",
              "    cursor: pointer;\n",
              "    display: none;\n",
              "    fill: var(--fill-color);\n",
              "    height: 32px;\n",
              "    padding: 0;\n",
              "    width: 32px;\n",
              "  }\n",
              "\n",
              "  .colab-df-quickchart:hover {\n",
              "    background-color: var(--hover-bg-color);\n",
              "    box-shadow: 0 1px 2px rgba(60, 64, 67, 0.3), 0 1px 3px 1px rgba(60, 64, 67, 0.15);\n",
              "    fill: var(--button-hover-fill-color);\n",
              "  }\n",
              "\n",
              "  .colab-df-quickchart-complete:disabled,\n",
              "  .colab-df-quickchart-complete:disabled:hover {\n",
              "    background-color: var(--disabled-bg-color);\n",
              "    fill: var(--disabled-fill-color);\n",
              "    box-shadow: none;\n",
              "  }\n",
              "\n",
              "  .colab-df-spinner {\n",
              "    border: 2px solid var(--fill-color);\n",
              "    border-color: transparent;\n",
              "    border-bottom-color: var(--fill-color);\n",
              "    animation:\n",
              "      spin 1s steps(1) infinite;\n",
              "  }\n",
              "\n",
              "  @keyframes spin {\n",
              "    0% {\n",
              "      border-color: transparent;\n",
              "      border-bottom-color: var(--fill-color);\n",
              "      border-left-color: var(--fill-color);\n",
              "    }\n",
              "    20% {\n",
              "      border-color: transparent;\n",
              "      border-left-color: var(--fill-color);\n",
              "      border-top-color: var(--fill-color);\n",
              "    }\n",
              "    30% {\n",
              "      border-color: transparent;\n",
              "      border-left-color: var(--fill-color);\n",
              "      border-top-color: var(--fill-color);\n",
              "      border-right-color: var(--fill-color);\n",
              "    }\n",
              "    40% {\n",
              "      border-color: transparent;\n",
              "      border-right-color: var(--fill-color);\n",
              "      border-top-color: var(--fill-color);\n",
              "    }\n",
              "    60% {\n",
              "      border-color: transparent;\n",
              "      border-right-color: var(--fill-color);\n",
              "    }\n",
              "    80% {\n",
              "      border-color: transparent;\n",
              "      border-right-color: var(--fill-color);\n",
              "      border-bottom-color: var(--fill-color);\n",
              "    }\n",
              "    90% {\n",
              "      border-color: transparent;\n",
              "      border-bottom-color: var(--fill-color);\n",
              "    }\n",
              "  }\n",
              "</style>\n",
              "\n",
              "  <script>\n",
              "    async function quickchart(key) {\n",
              "      const quickchartButtonEl =\n",
              "        document.querySelector('#' + key + ' button');\n",
              "      quickchartButtonEl.disabled = true;  // To prevent multiple clicks.\n",
              "      quickchartButtonEl.classList.add('colab-df-spinner');\n",
              "      try {\n",
              "        const charts = await google.colab.kernel.invokeFunction(\n",
              "            'suggestCharts', [key], {});\n",
              "      } catch (error) {\n",
              "        console.error('Error during call to suggestCharts:', error);\n",
              "      }\n",
              "      quickchartButtonEl.classList.remove('colab-df-spinner');\n",
              "      quickchartButtonEl.classList.add('colab-df-quickchart-complete');\n",
              "    }\n",
              "    (() => {\n",
              "      let quickchartButtonEl =\n",
              "        document.querySelector('#df-b195c66d-8dd3-42ce-b36d-d4763ff06ae9 button');\n",
              "      quickchartButtonEl.style.display =\n",
              "        google.colab.kernel.accessAllowed ? 'block' : 'none';\n",
              "    })();\n",
              "  </script>\n",
              "</div>\n",
              "\n",
              "    </div>\n",
              "  </div>\n"
            ],
            "text/plain": [
              "   age  sex     bmi  children  smoker  region      charges\n",
              "0   19    0  27.900         0       1       3  16884.92400\n",
              "1   18    1  33.770         1       0       2   1725.55230\n",
              "2   28    1  33.000         3       0       2   4449.46200\n",
              "3   33    1  22.705         0       0       1  21984.47061\n",
              "4   32    1  28.880         0       0       1   3866.85520"
            ]
          },
          "execution_count": 9,
          "metadata": {},
          "output_type": "execute_result"
        }
      ],
      "source": [
        "# from sklearn.preprocessing import LabelEncoder\n",
        "#sex\n",
        "data.sex = LabelEncoder().fit(data.sex.drop_duplicates()).transform(data.sex)\n",
        "# or:\n",
        "# le = LabelEncoder()\n",
        "# le.fit(data.sex.drop_duplicates())\n",
        "# data.sex = le.transform(data.sex)\n",
        "\n",
        "# or if no need to drop duplicates: data.sex = LabelEncoder().fit_transform(data.sex)\n",
        "\n",
        "# smoker or not\n",
        "data.smoker = LabelEncoder().fit(data.smoker.drop_duplicates()).transform(data.smoker)\n",
        "# or\n",
        "# le.fit(data.smoker.drop_duplicates())\n",
        "# data.smoker = le.transform(data.smoker)\n",
        "\n",
        "#region\n",
        "data.region = LabelEncoder().fit(data.region.drop_duplicates()).transform(data.region)\n",
        "# or\n",
        "# le.fit(data.region.drop_duplicates())\n",
        "# data.region = le.transform(data.region)\n",
        "\n",
        "data.head()    # Display the changes\n"
      ]
    },
    {
      "cell_type": "markdown",
      "metadata": {
        "_uuid": "000677f443ee8078ea2fd98e7db6710c596cf4de",
        "id": "jmtkt1gZKdrO"
      },
      "source": [
        "A few words about coding \"region\". In general, categorical variables with large variability are best encoded using OneHotEncoder and so on.  But in this case, nothing will change, because there is no special order in which the regions would be listed."
      ]
    },
    {
      "cell_type": "markdown",
      "metadata": {
        "id": "c6m1N7Zbq4I_"
      },
      "source": [
        "##Select Targets and Features\n",
        "\n",
        "**The Target is what we want to predict.** In a regression problem it is a continuous numeric variable.\n",
        "Since we are primarily interested in the charges, that will be our target.\n",
        "\n",
        "**The Features are variables used by the model to predict the target.**\n",
        "Possible features in our dataset include:\n",
        "age, sex, bmi, children, smoker and region.  \n",
        "\n",
        "**Feature Engineering** is the process of optimizing the model features.\n",
        "\n",
        "In this case, we wish to predict charges, so let's see which variables have the highest correlation with 'charges'.\n",
        "\n",
        "Run the correlation command."
      ]
    },
    {
      "cell_type": "code",
      "execution_count": 10,
      "metadata": {
        "_uuid": "d3db3486b773659048a51d8c28f8788a7b198daa",
        "colab": {
          "base_uri": "https://localhost:8080/",
          "height": 303
        },
        "id": "NmI8VKDcKdrO",
        "outputId": "1a281497-2f41-4ff7-e478-6ef8bc5504ca",
        "trusted": true
      },
      "outputs": [
        {
          "data": {
            "text/html": [
              "<div>\n",
              "<style scoped>\n",
              "    .dataframe tbody tr th:only-of-type {\n",
              "        vertical-align: middle;\n",
              "    }\n",
              "\n",
              "    .dataframe tbody tr th {\n",
              "        vertical-align: top;\n",
              "    }\n",
              "\n",
              "    .dataframe thead th {\n",
              "        text-align: right;\n",
              "    }\n",
              "</style>\n",
              "<table border=\"1\" class=\"dataframe\">\n",
              "  <thead>\n",
              "    <tr style=\"text-align: right;\">\n",
              "      <th></th>\n",
              "      <th>charges</th>\n",
              "    </tr>\n",
              "  </thead>\n",
              "  <tbody>\n",
              "    <tr>\n",
              "      <th>region</th>\n",
              "      <td>-0.006208</td>\n",
              "    </tr>\n",
              "    <tr>\n",
              "      <th>sex</th>\n",
              "      <td>0.057292</td>\n",
              "    </tr>\n",
              "    <tr>\n",
              "      <th>children</th>\n",
              "      <td>0.067998</td>\n",
              "    </tr>\n",
              "    <tr>\n",
              "      <th>bmi</th>\n",
              "      <td>0.198341</td>\n",
              "    </tr>\n",
              "    <tr>\n",
              "      <th>age</th>\n",
              "      <td>0.299008</td>\n",
              "    </tr>\n",
              "    <tr>\n",
              "      <th>smoker</th>\n",
              "      <td>0.787251</td>\n",
              "    </tr>\n",
              "    <tr>\n",
              "      <th>charges</th>\n",
              "      <td>1.000000</td>\n",
              "    </tr>\n",
              "  </tbody>\n",
              "</table>\n",
              "</div><br><label><b>dtype:</b> float64</label>"
            ],
            "text/plain": [
              "region     -0.006208\n",
              "sex         0.057292\n",
              "children    0.067998\n",
              "bmi         0.198341\n",
              "age         0.299008\n",
              "smoker      0.787251\n",
              "charges     1.000000\n",
              "Name: charges, dtype: float64"
            ]
          },
          "execution_count": 10,
          "metadata": {},
          "output_type": "execute_result"
        }
      ],
      "source": [
        "data.corr()['charges'].sort_values()\n",
        "# data.corr() Calculates the Pearson correlation coefficient (r) between all numeric columns in the dataframe\n",
        "# Calculates the correlation values between the charges column and all other columns.\n",
        "# r = 1: perfect positive correlation, r = 0 no linear correlation, r = -1: perfect negative correlation"
      ]
    },
    {
      "cell_type": "markdown",
      "metadata": {
        "id": "Lbkx_CVHryWM"
      },
      "source": [
        "**Question 4** What are the top three features correlated with charges?\n",
        "\n",
        "\n",
        "**Answer 4** Smoker, age, bmi\n"
      ]
    },
    {
      "cell_type": "markdown",
      "metadata": {
        "id": "tPD23xhIsMgB"
      },
      "source": [
        "A heatmap is a useful plot to further explore correlations between the features and target.\n",
        "**Run the Python code to produce the heatmap. **"
      ]
    },
    {
      "cell_type": "code",
      "execution_count": 11,
      "metadata": {
        "_uuid": "cd7124870e1725dd35d464c020d29c4cb0a05a96",
        "colab": {
          "base_uri": "https://localhost:8080/",
          "height": 687
        },
        "id": "G6KKJa3tKdrR",
        "outputId": "61d7f56c-a81e-458f-a508-ba5af4e0460b",
        "trusted": true
      },
      "outputs": [
        {
          "data": {
            "image/png": "[encoded data removed]",
            "text/plain": [
              "<Figure size 1000x800 with 2 Axes>"
            ]
          },
          "metadata": {},
          "output_type": "display_data"
        }
      ],
      "source": [
        "f, ax = plt.subplots(figsize=(10, 8))\n",
        "corr = data.corr()\n",
        "sns.heatmap(corr, mask=np.zeros_like(corr, dtype=bool), cmap=sns.diverging_palette(240,10,as_cmap=True),\n",
        "            square=True, ax=ax);"
      ]
    },
    {
      "cell_type": "markdown",
      "metadata": {
        "_uuid": "203d4091c6485da97983482ff56dcb1abe04aad1",
        "id": "JlKoQkYgKdrT"
      },
      "source": [
        "Red is the highest correlation. The diagonal red line shows that each variable is 100% correlated with itself. Pink and light blue show weaker correlations.\n",
        "\n",
        "**Question 5** List the top 3 variables correlated with charges in descending order.\n",
        "\n",
        "\n",
        "**Answer 5**\n",
        "\n",
        "1.  Smoker\n",
        "2.  Age\n",
        "3.  BMI\n"
      ]
    },
    {
      "cell_type": "markdown",
      "metadata": {
        "_uuid": "d81b82eedfea8f1312c8a34d77c3d131edd254e8",
        "id": "ztrOICNJKdrU"
      },
      "source": [
        "Next, let's look at the distribution of charges. This will help us to know how much patients spend on treatment on average.\n",
        "\n",
        "**Run the seaborn plotting function histplot on the variable 'charges'.**"
      ]
    },
    {
      "cell_type": "code",
      "execution_count": 12,
      "metadata": {
        "_uuid": "ddd108236a1047c740b7bfdf853ba2462c5229d0",
        "colab": {
          "base_uri": "https://localhost:8080/",
          "height": 458
        },
        "id": "PKJJZSitKdrU",
        "outputId": "0b671f09-2b10-4168-f1dd-c8f7fca31162",
        "trusted": true
      },
      "outputs": [
        {
          "data": {
            "image/png": "[encoded data removed]",
            "text/plain": [
              "<Figure size 640x480 with 1 Axes>"
            ]
          },
          "metadata": {},
          "output_type": "display_data"
        }
      ],
      "source": [
        "sns.histplot(data['charges'],color='c');     # Seaborn visualization"
      ]
    },
    {
      "cell_type": "markdown",
      "metadata": {
        "id": "sRd4ON51GMN-"
      },
      "source": [
        "We can break that down further to see the distribution of charges for smokers and non-smokers.\n",
        "\n",
        "**Run the next code section.**"
      ]
    },
    {
      "cell_type": "code",
      "execution_count": 13,
      "metadata": {
        "_uuid": "29b7a92f162252184cfd85bcb9c2cba6b381b2cc",
        "colab": {
          "base_uri": "https://localhost:8080/",
          "height": 496
        },
        "id": "sBQnJ5dOKdrX",
        "outputId": "e0bd4bb6-423a-4362-fdc8-c2a1f55f7bdc",
        "trusted": true
      },
      "outputs": [
        {
          "data": {
            "image/png": "[encoded data removed]",
            "text/plain": [
              "<Figure size 1200x500 with 2 Axes>"
            ]
          },
          "metadata": {},
          "output_type": "display_data"
        }
      ],
      "source": [
        "f = plt.figure(figsize=(12,5))\n",
        "\n",
        "ax = f.add_subplot(121)\n",
        "sns.histplot(data[(data.smoker == 1)][\"charges\"],color='c',ax=ax)  # this plots charges when the value of smoker = 1\n",
        "ax.set_title('Distribution of charges for smokers');\n",
        "\n",
        "ax = f.add_subplot(122)\n",
        "sns.histplot(data[(data.smoker == 0)]['charges'],color='b',ax=ax)  # this plots charges when the value of smoker = 0\n",
        "ax.set_title('Distribution of charges for non-smokers');"
      ]
    },
    {
      "cell_type": "markdown",
      "metadata": {
        "_uuid": "f616d144920352e4cab90b011af04c6dd2e3a519",
        "id": "ewzWh9YHKdrZ"
      },
      "source": [
        "Check the axes on the two plots.\n",
        "\n",
        "**Question 6** Given the range of charges for smokers vs non-smokers, which group has higher charges?\n",
        "\n",
        "\n",
        "**Answer 6** Smokers"
      ]
    },
    {
      "cell_type": "markdown",
      "metadata": {
        "id": "ROrL3KSBIHYb"
      },
      "source": [
        "**Question 7** Given the count of smokers vs non-smokers, which group is larger?\n",
        "\n",
        "**Answer 7** Non-smokers"
      ]
    },
    {
      "cell_type": "markdown",
      "metadata": {
        "id": "dDdHv86XLeX3"
      },
      "source": [
        "##Assign targets and features to regression variables x and y\n",
        "\n",
        "For our initial model, we'll select Smoker, Age, BMI as our most promising features. Run the Python code to drop region, sex, and children columns as well as the target 'charges'.  The variable X becomes the features data frame, and the variable Y becomes the target.\n",
        "\n",
        "**Run the code.**"
      ]
    },
    {
      "cell_type": "code",
      "execution_count": 22,
      "metadata": {
        "_uuid": "ef0b179e30e38a1b0b3a48de68a9418b0505e16a",
        "colab": {
          "base_uri": "https://localhost:8080/"
        },
        "id": "wOsE1sG7KdsP",
        "outputId": "b6c29e0e-3c8b-40b0-b1b4-8d7f73a9c57e",
        "trusted": true
      },
      "outputs": [
        {
          "name": "stdout",
          "output_type": "stream",
          "text": [
            "      age     bmi  smoker\n",
            "0      19  27.900       1\n",
            "1      18  33.770       0\n",
            "2      28  33.000       0\n",
            "3      33  22.705       0\n",
            "4      32  28.880       0\n",
            "...   ...     ...     ...\n",
            "1333   50  30.970       0\n",
            "1334   18  31.920       0\n",
            "1335   18  36.850       0\n",
            "1336   21  25.800       0\n",
            "1337   61  29.070       1\n",
            "\n",
            "[1338 rows x 3 columns]\n"
          ]
        }
      ],
      "source": [
        "# 3.3.2 Choose Features and Target\n",
        "\n",
        "#x = Features. We drop the columns we don't want.\n",
        "x = data.drop(['region', 'sex', 'children', 'charges'], axis ='columns')\n",
        "\n",
        "#y = Target. In this case, charges.\n",
        "y = data.charges\n",
        "\n",
        "print(x)\n"
      ]
    },
    {
      "cell_type": "markdown",
      "metadata": {
        "_uuid": "e609af580cd7963b8b6fb4b93c94f2c76d4f9355",
        "id": "lYUkV3BxKdsM"
      },
      "source": [
        "##Scale the data\n",
        "\n",
        "It is obvious that our feature columns each have different ranges:\n",
        "Smoker 0-1,\n",
        "Age    0-100,\n",
        "BMI    0-50\n",
        "\n",
        "To avoid the problem of over-valuing age or under-valuing smoker status, we must normalize the data. That means to adjust the variables to a common scale.  Standardization of a dataset is a common requirement for many machine learning estimators: they might behave badly if the individual features do not more or less look like standard normally distributed data (e.g. Gaussian with 0 mean and unit variance). The StandardScalar function subtracts the mean of each column\n",
        "from the data in that column and then divides the result by the standard\n",
        "deviation of that column.\n",
        "\n",
        "**Run the code to scale the data.**\n"
      ]
    },
    {
      "cell_type": "code",
      "execution_count": 15,
      "metadata": {
        "colab": {
          "base_uri": "https://localhost:8080/"
        },
        "id": "CEGGNCZRTPxh",
        "outputId": "0566672a-6db7-4400-c6a0-72c112c113ea"
      },
      "outputs": [
        {
          "name": "stdout",
          "output_type": "stream",
          "text": [
            "scaling complete\n",
            "new values of array x (age, bmi, smoker)\n"
          ]
        },
        {
          "data": {
            "text/plain": [
              "array([[-1.43876426, -0.45332   ,  1.97058663],\n",
              "       [-1.50996545,  0.5096211 , -0.5074631 ],\n",
              "       [-0.79795355,  0.38330685, -0.5074631 ],\n",
              "       ...,\n",
              "       [-1.50996545,  1.0148781 , -0.5074631 ],\n",
              "       [-1.29636188, -0.79781341, -0.5074631 ],\n",
              "       [ 1.55168573, -0.26138796,  1.97058663]])"
            ]
          },
          "execution_count": 15,
          "metadata": {},
          "output_type": "execute_result"
        }
      ],
      "source": [
        "\n",
        "scaler = StandardScaler() # Create a scaler object\n",
        "x = scaler.fit_transform(x)\n",
        "y = scaler.fit_transform(np.array(y).reshape(-1, 1))\n",
        "print('scaling complete')\n",
        "print('new values of array x (age, bmi, smoker)')\n",
        "x"
      ]
    },
    {
      "cell_type": "markdown",
      "metadata": {
        "id": "BYUxeTP6PoAF"
      },
      "source": [
        "##Split the data\n",
        "\n",
        "\n",
        "Since we only have one dataset, we'll split it to create training and testing datasets. The training datasets are like the practice questions your instructors provide prior to an exam. The test data is reserved to see how well the model performs on data it hasn't encountered in the training. </br>\n",
        "Run the code to split the data.\n",
        "\n"
      ]
    },
    {
      "cell_type": "code",
      "execution_count": 16,
      "metadata": {
        "colab": {
          "base_uri": "https://localhost:8080/"
        },
        "id": "XUoWsC_dTP84",
        "outputId": "a8e71b8f-9888-4500-bc71-d34a7a3be213"
      },
      "outputs": [
        {
          "name": "stdout",
          "output_type": "stream",
          "text": [
            "splitting complete\n"
          ]
        }
      ],
      "source": [
        "# Split the data\n",
        "x_train,x_test,y_train,y_test = train_test_split(x, y, test_size = 0.3, random_state = 0)\n",
        "print('splitting complete')"
      ]
    },
    {
      "cell_type": "markdown",
      "metadata": {
        "id": "zM2iKHNAm2uo"
      },
      "source": [
        "#**STEP 4 Model Creation and Evaluation**"
      ]
    },
    {
      "cell_type": "markdown",
      "metadata": {
        "id": "sA0n6G6vQzJr"
      },
      "source": [
        "##Train the Regression Algorithm\n",
        "\n",
        "Because we're using the scikit-learn Python extension, we simply need to define the variable linreg as the output of the LinearRegression function. Then we train the function on the feature (x) and target (y) training data. The trained algorithm can now be called a model.\n",
        "\n",
        " If we had to write custom code for these functions, it would be so much more difficult!"
      ]
    },
    {
      "cell_type": "code",
      "execution_count": 17,
      "metadata": {
        "colab": {
          "base_uri": "https://localhost:8080/"
        },
        "id": "9UlV_oYdTQGg",
        "outputId": "14dd2171-0455-40d8-dfce-a262957c2db6"
      },
      "outputs": [
        {
          "name": "stdout",
          "output_type": "stream",
          "text": [
            "3 feature regression training is complete\n"
          ]
        }
      ],
      "source": [
        "# Train a linear regression model\n",
        "linreg = LinearRegression()\n",
        "linreg.fit(x_train,y_train) # The actual training step\n",
        "print('3 feature regression training is complete')"
      ]
    },
    {
      "cell_type": "markdown",
      "metadata": {
        "id": "VrxXUWXiRrdY"
      },
      "source": [
        "##Test the Model - 3 feature version\n",
        "\n",
        "Now we're ready to see how the model performs against the test data. For each row of data, we calculate a prediction variable, (y_pred) based on the linear regression model applied to the test data (x_test). Run the test."
      ]
    },
    {
      "cell_type": "code",
      "execution_count": 18,
      "metadata": {
        "colab": {
          "base_uri": "https://localhost:8080/"
        },
        "id": "fQtR2-BsTQOg",
        "outputId": "a1b02add-9e8b-43c8-8ccf-ae163b47986a"
      },
      "outputs": [
        {
          "name": "stdout",
          "output_type": "stream",
          "text": [
            "3 feature model has been appplied to test data\n"
          ]
        }
      ],
      "source": [
        "# Testing the model: Predict y_pred based on x_test\n",
        "y_pred = linreg.predict(x_test)\n",
        "print('3 feature model has been appplied to test data')\n"
      ]
    },
    {
      "cell_type": "markdown",
      "metadata": {
        "id": "qh3ZRYkTdaiR"
      },
      "source": [
        "##Evaluate Model Performance\n",
        "\n",
        "Now we're ready to see how the model performed against the test data. For each row of data, we calculate a prediction variable, (y_pred) based on the linear regression model applied to the test data (x_test). The R-square score has values between 0 and 1. It tells us how well the regression line predicted the actual test values."
      ]
    },
    {
      "cell_type": "code",
      "execution_count": 19,
      "metadata": {
        "colab": {
          "base_uri": "https://localhost:8080/"
        },
        "id": "KQhTdp1EUX-Q",
        "outputId": "112b0f10-0fc1-475c-a013-212d2ec9b6d9"
      },
      "outputs": [
        {
          "name": "stdout",
          "output_type": "stream",
          "text": [
            "R-squared: 0.787\n"
          ]
        }
      ],
      "source": [
        "# Evaluate results of the prediction on the test data\n",
        "\n",
        "print(f'R-squared: {r2_score(y_true=y_test, y_pred=y_pred):.3}')"
      ]
    },
    {
      "cell_type": "markdown",
      "metadata": {
        "_uuid": "4c5794353ab6f5ef69176fcb2028fb29e41a5b5e",
        "id": "AvpoS3eYKdsQ"
      },
      "source": [
        "$\\color{brown}{\\text{Result: R-squared = 0.787 Using 3-Feature model}}$\n",
        "\n",
        "**Question 8** Interpret the R-squared score. Is it good, bad, or somewhere in between? Is there a standard R=squared score that defines \"good\" in all cases?\n",
        "\n",
        "**Answer 8** This R-squared scror means that about 78.7% of variability can be explained by the model. 0.787 is generally considered as a good score\n",
        "No there is not standard range for R-squared score, but generally in medicine, 0-0.2 is very weak or no relationship, 0.2-0.4 is weak, 0.4-0.6 is moderate, 0.6-0.8 is strong, > 0.8 is very strong and relatively rare in madicine."
      ]
    },
    {
      "cell_type": "markdown",
      "metadata": {
        "id": "PAuQepltXI0v"
      },
      "source": [
        "## Train/Test the model again - 6 feature version\n",
        "\n",
        "We established the model's performance using the three variables of Smoker, Age, and BMI. What do you think will happen if we use all the data we have, and include region, sex and children in the model?\n",
        "\n",
        "**Question 9** Will the model perform better, worse of the same with more data?\n",
        "\n",
        "**Answer 9** Since the variables that we dropped don't seem to have a relationship with target variable, they may make the performance of the model worse do to increased noise and overfitting. However R-squared will remane the same or increases (each additional variable can only increase the explained variance or leave it unchanged)"
      ]
    },
    {
      "cell_type": "markdown",
      "metadata": {
        "id": "Nj-jhsYBeVlG"
      },
      "source": [
        "Run the Python code below run the regression model using all data. The steps are the same as above. We've just combined steps together."
      ]
    },
    {
      "cell_type": "code",
      "execution_count": 20,
      "metadata": {
        "colab": {
          "base_uri": "https://localhost:8080/"
        },
        "id": "dfv3hKfKYZtR",
        "outputId": "5a3523a0-24c2-4e28-a36c-472d4433ac04"
      },
      "outputs": [
        {
          "name": "stdout",
          "output_type": "stream",
          "text": [
            "      age  sex     bmi  children  smoker  region\n",
            "0      19    0  27.900         0       1       3\n",
            "1      18    1  33.770         1       0       2\n",
            "2      28    1  33.000         3       0       2\n",
            "3      33    1  22.705         0       0       1\n",
            "4      32    1  28.880         0       0       1\n",
            "...   ...  ...     ...       ...     ...     ...\n",
            "1333   50    1  30.970         3       0       1\n",
            "1334   18    0  31.920         0       0       0\n",
            "1335   18    0  36.850         0       0       2\n",
            "1336   21    0  25.800         0       0       3\n",
            "1337   61    0  29.070         0       1       1\n",
            "\n",
            "[1338 rows x 6 columns]\n",
            "scaling complete\n",
            "splitting complete\n",
            "6 feature regression complete\n",
            "R-squared: 0.791\n"
          ]
        }
      ],
      "source": [
        "# Define features and target\n",
        "x = data.drop(['charges'], axis = 1)\n",
        "y = data.charges # target\n",
        "\n",
        "print(x)\n",
        "\n",
        "# Normalize the data\n",
        "scaler = StandardScaler() # Create a scaler object\n",
        "x = scaler.fit_transform(x)\n",
        "y = scaler.fit_transform(np.array(y).reshape(-1, 1))\n",
        "print('scaling complete')\n",
        "\n",
        "# Split the data\n",
        "x_train,x_test,y_train,y_test = train_test_split(x, y, test_size = 0.3, random_state = 0)\n",
        "print('splitting complete')\n",
        "\n",
        "# Create a linear regression object and  train the model\n",
        "linreg = LinearRegression()\n",
        "linreg.fit(x_train,y_train) # The actual training step\n",
        "print('6 feature regression complete')\n",
        "\n",
        "# Predict on the test data\n",
        "y_pred = linreg.predict(x_test)\n",
        "\n",
        "print(f'R-squared: {r2_score(y_true=y_test, y_pred=y_pred):.3}')"
      ]
    },
    {
      "cell_type": "markdown",
      "metadata": {
        "id": "zBMpbSMxfezk"
      },
      "source": [
        "$\\color{brown}{\\text{Result: R-squared = 0.791 using 6-Feature Model}}$\n",
        "\n",
        "**Question 10** What is the difference between the R-squared values for 3- and 6-feature models? Which model would you choose for implementation? Explain your rationale.\n",
        "\n",
        "**Answer 10** R-squared is higher in 6-feature model which is a mathematical property (each additional variable can only increase the explained variance or leave it unchanged). But I would choose the 3-feature model, since the variables that we dropped don't seem to have a relationship with target variable, they may make the performance of the model worse do to increased noise and overfitting."
      ]
    },
    {
      "cell_type": "markdown",
      "metadata": {
        "id": "liBLqcCEEyfS"
      },
      "source": [
        "#Try RandomForrestRegressor algorithm\n",
        "\n",
        "There are other regression algorithms that may have advantages over simple linear regression. Let's compare the performance of the sklearn Random Forest Regressor by running the next code section."
      ]
    },
    {
      "cell_type": "code",
      "execution_count": 21,
      "metadata": {
        "_uuid": "15ab5e45c0a99fe16b72e87904297db45fd42ea1",
        "colab": {
          "base_uri": "https://localhost:8080/"
        },
        "id": "3YlV4degKdsT",
        "outputId": "b41b9100-2bc8-49d5-8b30-dbaff83d1d77",
        "trusted": true
      },
      "outputs": [
        {
          "name": "stderr",
          "output_type": "stream",
          "text": [
            "/usr/local/lib/python3.11/dist-packages/sklearn/base.py:1389: DataConversionWarning: A column-vector y was passed when a 1d array was expected. Please change the shape of y to (n_samples,), for example using ravel().\n",
            "  return fit_method(estimator, *args, **kwargs)\n"
          ]
        },
        {
          "name": "stdout",
          "output_type": "stream",
          "text": [
            "MSE train data: 0.024, MSE test data: 0.155\n",
            "R-squared train data: 0.975, R-squared test data: 0.857\n"
          ]
        }
      ],
      "source": [
        "forest = RandomForestRegressor(n_estimators = 100,\n",
        "                              criterion = 'friedman_mse', # mse: mean squared error\n",
        "                              random_state = 1,\n",
        "                              n_jobs = -1)\n",
        "forest.fit(x_train,y_train) # The actual training\n",
        "forest_train_pred = forest.predict(x_train)\n",
        "forest_test_pred = forest.predict(x_test)\n",
        "\n",
        "print('MSE train data: %.3f, MSE test data: %.3f' % (\n",
        "mean_squared_error(y_train,forest_train_pred),\n",
        "mean_squared_error(y_test,forest_test_pred)))\n",
        "print('R-squared train data: %.3f, R-squared test data: %.3f' % (\n",
        "r2_score(y_train,forest_train_pred),\n",
        "r2_score(y_test,forest_test_pred)))"
      ]
    },
    {
      "cell_type": "markdown",
      "metadata": {
        "id": "0VZIlfw-X74I"
      },
      "source": [
        "We can see improvement when going from vanilla regression to random forests. If we chose this as our model, consider how it might be used in the management of an Accountable Care Organization.\n",
        "\n",
        "**Question 11**\n",
        "If the same type of input data becomes available for prospective patients,\n",
        "how might the prediction of their costs be used by the ACO?\n",
        "Who might make decisions based on these predictions?\n",
        "Is 85% accuracy good enough for that purpose?\n",
        "\n",
        "\n",
        "**Answer 11**  If prospective patient data becomes available, ACOs would be able to identify high-risk patients requiring intervention with the predicted costs, allocating resources accordingly and developing targeted care management programs. Clinical directors, financial officers, care managers, and even leaders focused on population health would make the decisions. The accuracy of cost predictions is 85%, which although good for general considerations, planning, and internal decision making, would require cautious clinical supervision for individual patient management to ethically safeguard against biases."
      ]
    },
    {
      "cell_type": "code",
      "execution_count": null,
      "metadata": {
        "id": "oRYPPq-Gv1S8"
      },
      "outputs": [],
      "source": []
    }
  ],
  "metadata": {
    "colab": {
      "provenance": []
    },
    "kernelspec": {
      "display_name": "Python 3",
      "language": "python",
      "name": "python3"
    },
    "language_info": {
      "codemirror_mode": {
        "name": "ipython",
        "version": 3
      },
      "file_extension": ".py",
      "mimetype": "text/x-python",
      "name": "python",
      "nbconvert_exporter": "python",
      "pygments_lexer": "ipython3",
      "version": "3.10.7"
    }
  },
  "nbformat": 4,
  "nbformat_minor": 0
}
